{
  "nbformat": 4,
  "nbformat_minor": 0,
  "metadata": {
    "colab": {
      "name": "tf-sentiment-analysis.ipynb",
      "provenance": [],
      "authorship_tag": "ABX9TyPYHHQNvcpnGmLhAx+xxz0V",
      "include_colab_link": true
    },
    "kernelspec": {
      "name": "python3",
      "display_name": "Python 3"
    },
    "widgets": {
      "application/vnd.jupyter.widget-state+json": {
        "6efa674ad32a496a98de7b369b0c7f11": {
          "model_module": "@jupyter-widgets/controls",
          "model_name": "HBoxModel",
          "state": {
            "_view_name": "HBoxView",
            "_dom_classes": [],
            "_model_name": "HBoxModel",
            "_view_module": "@jupyter-widgets/controls",
            "_model_module_version": "1.5.0",
            "_view_count": null,
            "_view_module_version": "1.5.0",
            "box_style": "",
            "layout": "IPY_MODEL_1260c78f9b7947888560f8f6a81df637",
            "_model_module": "@jupyter-widgets/controls",
            "children": [
              "IPY_MODEL_2418d7d67ffa4bb4a1b9afbdc8361369",
              "IPY_MODEL_3bc3fba15f724b639ffeeb2303b99dbc"
            ]
          }
        },
        "1260c78f9b7947888560f8f6a81df637": {
          "model_module": "@jupyter-widgets/base",
          "model_name": "LayoutModel",
          "state": {
            "_view_name": "LayoutView",
            "grid_template_rows": null,
            "right": null,
            "justify_content": null,
            "_view_module": "@jupyter-widgets/base",
            "overflow": null,
            "_model_module_version": "1.2.0",
            "_view_count": null,
            "flex_flow": null,
            "width": null,
            "min_width": null,
            "border": null,
            "align_items": null,
            "bottom": null,
            "_model_module": "@jupyter-widgets/base",
            "top": null,
            "grid_column": null,
            "overflow_y": null,
            "overflow_x": null,
            "grid_auto_flow": null,
            "grid_area": null,
            "grid_template_columns": null,
            "flex": null,
            "_model_name": "LayoutModel",
            "justify_items": null,
            "grid_row": null,
            "max_height": null,
            "align_content": null,
            "visibility": null,
            "align_self": null,
            "height": null,
            "min_height": null,
            "padding": null,
            "grid_auto_rows": null,
            "grid_gap": null,
            "max_width": null,
            "order": null,
            "_view_module_version": "1.2.0",
            "grid_template_areas": null,
            "object_position": null,
            "object_fit": null,
            "grid_auto_columns": null,
            "margin": null,
            "display": null,
            "left": null
          }
        },
        "2418d7d67ffa4bb4a1b9afbdc8361369": {
          "model_module": "@jupyter-widgets/controls",
          "model_name": "FloatProgressModel",
          "state": {
            "_view_name": "ProgressView",
            "style": "IPY_MODEL_c609dca0c6b5445d8402e811bbb0ba8c",
            "_dom_classes": [],
            "description": "Dl Completed...: 100%",
            "_model_name": "FloatProgressModel",
            "bar_style": "success",
            "max": 1,
            "_view_module": "@jupyter-widgets/controls",
            "_model_module_version": "1.5.0",
            "value": 1,
            "_view_count": null,
            "_view_module_version": "1.5.0",
            "orientation": "horizontal",
            "min": 0,
            "description_tooltip": null,
            "_model_module": "@jupyter-widgets/controls",
            "layout": "IPY_MODEL_3bfac67b7ef3486da23e91cb617bad82"
          }
        },
        "3bc3fba15f724b639ffeeb2303b99dbc": {
          "model_module": "@jupyter-widgets/controls",
          "model_name": "HTMLModel",
          "state": {
            "_view_name": "HTMLView",
            "style": "IPY_MODEL_11249ff2174c4c11b6fc729c86284bb9",
            "_dom_classes": [],
            "description": "",
            "_model_name": "HTMLModel",
            "placeholder": "​",
            "_view_module": "@jupyter-widgets/controls",
            "_model_module_version": "1.5.0",
            "value": " 1/1 [00:02&lt;00:00,  2.32s/ url]",
            "_view_count": null,
            "_view_module_version": "1.5.0",
            "description_tooltip": null,
            "_model_module": "@jupyter-widgets/controls",
            "layout": "IPY_MODEL_0768090e560f47c8bae34dc233bc5706"
          }
        },
        "c609dca0c6b5445d8402e811bbb0ba8c": {
          "model_module": "@jupyter-widgets/controls",
          "model_name": "ProgressStyleModel",
          "state": {
            "_view_name": "StyleView",
            "_model_name": "ProgressStyleModel",
            "description_width": "initial",
            "_view_module": "@jupyter-widgets/base",
            "_model_module_version": "1.5.0",
            "_view_count": null,
            "_view_module_version": "1.2.0",
            "bar_color": null,
            "_model_module": "@jupyter-widgets/controls"
          }
        },
        "3bfac67b7ef3486da23e91cb617bad82": {
          "model_module": "@jupyter-widgets/base",
          "model_name": "LayoutModel",
          "state": {
            "_view_name": "LayoutView",
            "grid_template_rows": null,
            "right": null,
            "justify_content": null,
            "_view_module": "@jupyter-widgets/base",
            "overflow": null,
            "_model_module_version": "1.2.0",
            "_view_count": null,
            "flex_flow": null,
            "width": null,
            "min_width": null,
            "border": null,
            "align_items": null,
            "bottom": null,
            "_model_module": "@jupyter-widgets/base",
            "top": null,
            "grid_column": null,
            "overflow_y": null,
            "overflow_x": null,
            "grid_auto_flow": null,
            "grid_area": null,
            "grid_template_columns": null,
            "flex": null,
            "_model_name": "LayoutModel",
            "justify_items": null,
            "grid_row": null,
            "max_height": null,
            "align_content": null,
            "visibility": null,
            "align_self": null,
            "height": null,
            "min_height": null,
            "padding": null,
            "grid_auto_rows": null,
            "grid_gap": null,
            "max_width": null,
            "order": null,
            "_view_module_version": "1.2.0",
            "grid_template_areas": null,
            "object_position": null,
            "object_fit": null,
            "grid_auto_columns": null,
            "margin": null,
            "display": null,
            "left": null
          }
        },
        "11249ff2174c4c11b6fc729c86284bb9": {
          "model_module": "@jupyter-widgets/controls",
          "model_name": "DescriptionStyleModel",
          "state": {
            "_view_name": "StyleView",
            "_model_name": "DescriptionStyleModel",
            "description_width": "",
            "_view_module": "@jupyter-widgets/base",
            "_model_module_version": "1.5.0",
            "_view_count": null,
            "_view_module_version": "1.2.0",
            "_model_module": "@jupyter-widgets/controls"
          }
        },
        "0768090e560f47c8bae34dc233bc5706": {
          "model_module": "@jupyter-widgets/base",
          "model_name": "LayoutModel",
          "state": {
            "_view_name": "LayoutView",
            "grid_template_rows": null,
            "right": null,
            "justify_content": null,
            "_view_module": "@jupyter-widgets/base",
            "overflow": null,
            "_model_module_version": "1.2.0",
            "_view_count": null,
            "flex_flow": null,
            "width": null,
            "min_width": null,
            "border": null,
            "align_items": null,
            "bottom": null,
            "_model_module": "@jupyter-widgets/base",
            "top": null,
            "grid_column": null,
            "overflow_y": null,
            "overflow_x": null,
            "grid_auto_flow": null,
            "grid_area": null,
            "grid_template_columns": null,
            "flex": null,
            "_model_name": "LayoutModel",
            "justify_items": null,
            "grid_row": null,
            "max_height": null,
            "align_content": null,
            "visibility": null,
            "align_self": null,
            "height": null,
            "min_height": null,
            "padding": null,
            "grid_auto_rows": null,
            "grid_gap": null,
            "max_width": null,
            "order": null,
            "_view_module_version": "1.2.0",
            "grid_template_areas": null,
            "object_position": null,
            "object_fit": null,
            "grid_auto_columns": null,
            "margin": null,
            "display": null,
            "left": null
          }
        },
        "dc851b45b078421b8387a784da8c6ea8": {
          "model_module": "@jupyter-widgets/controls",
          "model_name": "HBoxModel",
          "state": {
            "_view_name": "HBoxView",
            "_dom_classes": [],
            "_model_name": "HBoxModel",
            "_view_module": "@jupyter-widgets/controls",
            "_model_module_version": "1.5.0",
            "_view_count": null,
            "_view_module_version": "1.5.0",
            "box_style": "",
            "layout": "IPY_MODEL_bb86e08e601e4ce7b2ed3639d965a8b9",
            "_model_module": "@jupyter-widgets/controls",
            "children": [
              "IPY_MODEL_34ee076ae6e24f8692a910f2a3d2a3f6",
              "IPY_MODEL_51ccc5e3dfd34791b08765cc33ef1bca"
            ]
          }
        },
        "bb86e08e601e4ce7b2ed3639d965a8b9": {
          "model_module": "@jupyter-widgets/base",
          "model_name": "LayoutModel",
          "state": {
            "_view_name": "LayoutView",
            "grid_template_rows": null,
            "right": null,
            "justify_content": null,
            "_view_module": "@jupyter-widgets/base",
            "overflow": null,
            "_model_module_version": "1.2.0",
            "_view_count": null,
            "flex_flow": null,
            "width": null,
            "min_width": null,
            "border": null,
            "align_items": null,
            "bottom": null,
            "_model_module": "@jupyter-widgets/base",
            "top": null,
            "grid_column": null,
            "overflow_y": null,
            "overflow_x": null,
            "grid_auto_flow": null,
            "grid_area": null,
            "grid_template_columns": null,
            "flex": null,
            "_model_name": "LayoutModel",
            "justify_items": null,
            "grid_row": null,
            "max_height": null,
            "align_content": null,
            "visibility": null,
            "align_self": null,
            "height": null,
            "min_height": null,
            "padding": null,
            "grid_auto_rows": null,
            "grid_gap": null,
            "max_width": null,
            "order": null,
            "_view_module_version": "1.2.0",
            "grid_template_areas": null,
            "object_position": null,
            "object_fit": null,
            "grid_auto_columns": null,
            "margin": null,
            "display": null,
            "left": null
          }
        },
        "34ee076ae6e24f8692a910f2a3d2a3f6": {
          "model_module": "@jupyter-widgets/controls",
          "model_name": "FloatProgressModel",
          "state": {
            "_view_name": "ProgressView",
            "style": "IPY_MODEL_668579b61c7543489364d5eb477448f6",
            "_dom_classes": [],
            "description": "Dl Size...: 100%",
            "_model_name": "FloatProgressModel",
            "bar_style": "success",
            "max": 1,
            "_view_module": "@jupyter-widgets/controls",
            "_model_module_version": "1.5.0",
            "value": 1,
            "_view_count": null,
            "_view_module_version": "1.5.0",
            "orientation": "horizontal",
            "min": 0,
            "description_tooltip": null,
            "_model_module": "@jupyter-widgets/controls",
            "layout": "IPY_MODEL_8b43cddf59da4c189cb7c5e0fb4db974"
          }
        },
        "51ccc5e3dfd34791b08765cc33ef1bca": {
          "model_module": "@jupyter-widgets/controls",
          "model_name": "HTMLModel",
          "state": {
            "_view_name": "HTMLView",
            "style": "IPY_MODEL_b749201ebcc3439f92410eeef3df606d",
            "_dom_classes": [],
            "description": "",
            "_model_name": "HTMLModel",
            "placeholder": "​",
            "_view_module": "@jupyter-widgets/controls",
            "_model_module_version": "1.5.0",
            "value": " 21/21 [00:02&lt;00:00,  9.16 MiB/s]",
            "_view_count": null,
            "_view_module_version": "1.5.0",
            "description_tooltip": null,
            "_model_module": "@jupyter-widgets/controls",
            "layout": "IPY_MODEL_4b05af34b96743aa98315186c9894891"
          }
        },
        "668579b61c7543489364d5eb477448f6": {
          "model_module": "@jupyter-widgets/controls",
          "model_name": "ProgressStyleModel",
          "state": {
            "_view_name": "StyleView",
            "_model_name": "ProgressStyleModel",
            "description_width": "initial",
            "_view_module": "@jupyter-widgets/base",
            "_model_module_version": "1.5.0",
            "_view_count": null,
            "_view_module_version": "1.2.0",
            "bar_color": null,
            "_model_module": "@jupyter-widgets/controls"
          }
        },
        "8b43cddf59da4c189cb7c5e0fb4db974": {
          "model_module": "@jupyter-widgets/base",
          "model_name": "LayoutModel",
          "state": {
            "_view_name": "LayoutView",
            "grid_template_rows": null,
            "right": null,
            "justify_content": null,
            "_view_module": "@jupyter-widgets/base",
            "overflow": null,
            "_model_module_version": "1.2.0",
            "_view_count": null,
            "flex_flow": null,
            "width": null,
            "min_width": null,
            "border": null,
            "align_items": null,
            "bottom": null,
            "_model_module": "@jupyter-widgets/base",
            "top": null,
            "grid_column": null,
            "overflow_y": null,
            "overflow_x": null,
            "grid_auto_flow": null,
            "grid_area": null,
            "grid_template_columns": null,
            "flex": null,
            "_model_name": "LayoutModel",
            "justify_items": null,
            "grid_row": null,
            "max_height": null,
            "align_content": null,
            "visibility": null,
            "align_self": null,
            "height": null,
            "min_height": null,
            "padding": null,
            "grid_auto_rows": null,
            "grid_gap": null,
            "max_width": null,
            "order": null,
            "_view_module_version": "1.2.0",
            "grid_template_areas": null,
            "object_position": null,
            "object_fit": null,
            "grid_auto_columns": null,
            "margin": null,
            "display": null,
            "left": null
          }
        },
        "b749201ebcc3439f92410eeef3df606d": {
          "model_module": "@jupyter-widgets/controls",
          "model_name": "DescriptionStyleModel",
          "state": {
            "_view_name": "StyleView",
            "_model_name": "DescriptionStyleModel",
            "description_width": "",
            "_view_module": "@jupyter-widgets/base",
            "_model_module_version": "1.5.0",
            "_view_count": null,
            "_view_module_version": "1.2.0",
            "_model_module": "@jupyter-widgets/controls"
          }
        },
        "4b05af34b96743aa98315186c9894891": {
          "model_module": "@jupyter-widgets/base",
          "model_name": "LayoutModel",
          "state": {
            "_view_name": "LayoutView",
            "grid_template_rows": null,
            "right": null,
            "justify_content": null,
            "_view_module": "@jupyter-widgets/base",
            "overflow": null,
            "_model_module_version": "1.2.0",
            "_view_count": null,
            "flex_flow": null,
            "width": null,
            "min_width": null,
            "border": null,
            "align_items": null,
            "bottom": null,
            "_model_module": "@jupyter-widgets/base",
            "top": null,
            "grid_column": null,
            "overflow_y": null,
            "overflow_x": null,
            "grid_auto_flow": null,
            "grid_area": null,
            "grid_template_columns": null,
            "flex": null,
            "_model_name": "LayoutModel",
            "justify_items": null,
            "grid_row": null,
            "max_height": null,
            "align_content": null,
            "visibility": null,
            "align_self": null,
            "height": null,
            "min_height": null,
            "padding": null,
            "grid_auto_rows": null,
            "grid_gap": null,
            "max_width": null,
            "order": null,
            "_view_module_version": "1.2.0",
            "grid_template_areas": null,
            "object_position": null,
            "object_fit": null,
            "grid_auto_columns": null,
            "margin": null,
            "display": null,
            "left": null
          }
        },
        "d9d69b9dc8604da7976fb5fa8d7113a3": {
          "model_module": "@jupyter-widgets/controls",
          "model_name": "HBoxModel",
          "state": {
            "_view_name": "HBoxView",
            "_dom_classes": [],
            "_model_name": "HBoxModel",
            "_view_module": "@jupyter-widgets/controls",
            "_model_module_version": "1.5.0",
            "_view_count": null,
            "_view_module_version": "1.5.0",
            "box_style": "",
            "layout": "IPY_MODEL_945cf89657b14a95868394ed9786ef70",
            "_model_module": "@jupyter-widgets/controls",
            "children": [
              "IPY_MODEL_99d71ca6e9f5440b9e8b8e800d3b4a97",
              "IPY_MODEL_6937bb5b7bbc42fda302d5a0414378ba"
            ]
          }
        },
        "945cf89657b14a95868394ed9786ef70": {
          "model_module": "@jupyter-widgets/base",
          "model_name": "LayoutModel",
          "state": {
            "_view_name": "LayoutView",
            "grid_template_rows": null,
            "right": null,
            "justify_content": null,
            "_view_module": "@jupyter-widgets/base",
            "overflow": null,
            "_model_module_version": "1.2.0",
            "_view_count": null,
            "flex_flow": null,
            "width": null,
            "min_width": null,
            "border": null,
            "align_items": null,
            "bottom": null,
            "_model_module": "@jupyter-widgets/base",
            "top": null,
            "grid_column": null,
            "overflow_y": null,
            "overflow_x": null,
            "grid_auto_flow": null,
            "grid_area": null,
            "grid_template_columns": null,
            "flex": null,
            "_model_name": "LayoutModel",
            "justify_items": null,
            "grid_row": null,
            "max_height": null,
            "align_content": null,
            "visibility": null,
            "align_self": null,
            "height": null,
            "min_height": null,
            "padding": null,
            "grid_auto_rows": null,
            "grid_gap": null,
            "max_width": null,
            "order": null,
            "_view_module_version": "1.2.0",
            "grid_template_areas": null,
            "object_position": null,
            "object_fit": null,
            "grid_auto_columns": null,
            "margin": null,
            "display": null,
            "left": null
          }
        },
        "99d71ca6e9f5440b9e8b8e800d3b4a97": {
          "model_module": "@jupyter-widgets/controls",
          "model_name": "FloatProgressModel",
          "state": {
            "_view_name": "ProgressView",
            "style": "IPY_MODEL_5a51043c45124742a0a20069f3bc1d97",
            "_dom_classes": [],
            "description": "Extraction completed...: 100%",
            "_model_name": "FloatProgressModel",
            "bar_style": "success",
            "max": 1,
            "_view_module": "@jupyter-widgets/controls",
            "_model_module_version": "1.5.0",
            "value": 1,
            "_view_count": null,
            "_view_module_version": "1.5.0",
            "orientation": "horizontal",
            "min": 0,
            "description_tooltip": null,
            "_model_module": "@jupyter-widgets/controls",
            "layout": "IPY_MODEL_7f7fe37365de4dd2a39bbfdb84cbec1c"
          }
        },
        "6937bb5b7bbc42fda302d5a0414378ba": {
          "model_module": "@jupyter-widgets/controls",
          "model_name": "HTMLModel",
          "state": {
            "_view_name": "HTMLView",
            "style": "IPY_MODEL_e229f3e012024c058f52ac6fb6d34191",
            "_dom_classes": [],
            "description": "",
            "_model_name": "HTMLModel",
            "placeholder": "​",
            "_view_module": "@jupyter-widgets/controls",
            "_model_module_version": "1.5.0",
            "value": " 1/1 [00:02&lt;00:00,  2.26s/ file]",
            "_view_count": null,
            "_view_module_version": "1.5.0",
            "description_tooltip": null,
            "_model_module": "@jupyter-widgets/controls",
            "layout": "IPY_MODEL_9596d6b37d74424ca7378c7122fccc59"
          }
        },
        "5a51043c45124742a0a20069f3bc1d97": {
          "model_module": "@jupyter-widgets/controls",
          "model_name": "ProgressStyleModel",
          "state": {
            "_view_name": "StyleView",
            "_model_name": "ProgressStyleModel",
            "description_width": "initial",
            "_view_module": "@jupyter-widgets/base",
            "_model_module_version": "1.5.0",
            "_view_count": null,
            "_view_module_version": "1.2.0",
            "bar_color": null,
            "_model_module": "@jupyter-widgets/controls"
          }
        },
        "7f7fe37365de4dd2a39bbfdb84cbec1c": {
          "model_module": "@jupyter-widgets/base",
          "model_name": "LayoutModel",
          "state": {
            "_view_name": "LayoutView",
            "grid_template_rows": null,
            "right": null,
            "justify_content": null,
            "_view_module": "@jupyter-widgets/base",
            "overflow": null,
            "_model_module_version": "1.2.0",
            "_view_count": null,
            "flex_flow": null,
            "width": null,
            "min_width": null,
            "border": null,
            "align_items": null,
            "bottom": null,
            "_model_module": "@jupyter-widgets/base",
            "top": null,
            "grid_column": null,
            "overflow_y": null,
            "overflow_x": null,
            "grid_auto_flow": null,
            "grid_area": null,
            "grid_template_columns": null,
            "flex": null,
            "_model_name": "LayoutModel",
            "justify_items": null,
            "grid_row": null,
            "max_height": null,
            "align_content": null,
            "visibility": null,
            "align_self": null,
            "height": null,
            "min_height": null,
            "padding": null,
            "grid_auto_rows": null,
            "grid_gap": null,
            "max_width": null,
            "order": null,
            "_view_module_version": "1.2.0",
            "grid_template_areas": null,
            "object_position": null,
            "object_fit": null,
            "grid_auto_columns": null,
            "margin": null,
            "display": null,
            "left": null
          }
        },
        "e229f3e012024c058f52ac6fb6d34191": {
          "model_module": "@jupyter-widgets/controls",
          "model_name": "DescriptionStyleModel",
          "state": {
            "_view_name": "StyleView",
            "_model_name": "DescriptionStyleModel",
            "description_width": "",
            "_view_module": "@jupyter-widgets/base",
            "_model_module_version": "1.5.0",
            "_view_count": null,
            "_view_module_version": "1.2.0",
            "_model_module": "@jupyter-widgets/controls"
          }
        },
        "9596d6b37d74424ca7378c7122fccc59": {
          "model_module": "@jupyter-widgets/base",
          "model_name": "LayoutModel",
          "state": {
            "_view_name": "LayoutView",
            "grid_template_rows": null,
            "right": null,
            "justify_content": null,
            "_view_module": "@jupyter-widgets/base",
            "overflow": null,
            "_model_module_version": "1.2.0",
            "_view_count": null,
            "flex_flow": null,
            "width": null,
            "min_width": null,
            "border": null,
            "align_items": null,
            "bottom": null,
            "_model_module": "@jupyter-widgets/base",
            "top": null,
            "grid_column": null,
            "overflow_y": null,
            "overflow_x": null,
            "grid_auto_flow": null,
            "grid_area": null,
            "grid_template_columns": null,
            "flex": null,
            "_model_name": "LayoutModel",
            "justify_items": null,
            "grid_row": null,
            "max_height": null,
            "align_content": null,
            "visibility": null,
            "align_self": null,
            "height": null,
            "min_height": null,
            "padding": null,
            "grid_auto_rows": null,
            "grid_gap": null,
            "max_width": null,
            "order": null,
            "_view_module_version": "1.2.0",
            "grid_template_areas": null,
            "object_position": null,
            "object_fit": null,
            "grid_auto_columns": null,
            "margin": null,
            "display": null,
            "left": null
          }
        },
        "e7f0fa12ba7d47bfb08ea385157134f6": {
          "model_module": "@jupyter-widgets/controls",
          "model_name": "HBoxModel",
          "state": {
            "_view_name": "HBoxView",
            "_dom_classes": [],
            "_model_name": "HBoxModel",
            "_view_module": "@jupyter-widgets/controls",
            "_model_module_version": "1.5.0",
            "_view_count": null,
            "_view_module_version": "1.5.0",
            "box_style": "",
            "layout": "IPY_MODEL_fbebfb5eccf445068291611599f3f985",
            "_model_module": "@jupyter-widgets/controls",
            "children": [
              "IPY_MODEL_48370ddefd294fedb9bde0dd7ba32682",
              "IPY_MODEL_d340925f7c624ccca98d369ef0fc0f81"
            ]
          }
        },
        "fbebfb5eccf445068291611599f3f985": {
          "model_module": "@jupyter-widgets/base",
          "model_name": "LayoutModel",
          "state": {
            "_view_name": "LayoutView",
            "grid_template_rows": null,
            "right": null,
            "justify_content": null,
            "_view_module": "@jupyter-widgets/base",
            "overflow": null,
            "_model_module_version": "1.2.0",
            "_view_count": null,
            "flex_flow": null,
            "width": null,
            "min_width": null,
            "border": null,
            "align_items": null,
            "bottom": null,
            "_model_module": "@jupyter-widgets/base",
            "top": null,
            "grid_column": null,
            "overflow_y": null,
            "overflow_x": null,
            "grid_auto_flow": null,
            "grid_area": null,
            "grid_template_columns": null,
            "flex": null,
            "_model_name": "LayoutModel",
            "justify_items": null,
            "grid_row": null,
            "max_height": null,
            "align_content": null,
            "visibility": null,
            "align_self": null,
            "height": null,
            "min_height": null,
            "padding": null,
            "grid_auto_rows": null,
            "grid_gap": null,
            "max_width": null,
            "order": null,
            "_view_module_version": "1.2.0",
            "grid_template_areas": null,
            "object_position": null,
            "object_fit": null,
            "grid_auto_columns": null,
            "margin": null,
            "display": null,
            "left": null
          }
        },
        "48370ddefd294fedb9bde0dd7ba32682": {
          "model_module": "@jupyter-widgets/controls",
          "model_name": "FloatProgressModel",
          "state": {
            "_view_name": "ProgressView",
            "style": "IPY_MODEL_5e7ccbbb44314fd9b0f8e72758840cf0",
            "_dom_classes": [],
            "description": "",
            "_model_name": "FloatProgressModel",
            "bar_style": "info",
            "max": 1,
            "_view_module": "@jupyter-widgets/controls",
            "_model_module_version": "1.5.0",
            "value": 1,
            "_view_count": null,
            "_view_module_version": "1.5.0",
            "orientation": "horizontal",
            "min": 0,
            "description_tooltip": null,
            "_model_module": "@jupyter-widgets/controls",
            "layout": "IPY_MODEL_d12aaaa97db7460a8df12f95cf35e288"
          }
        },
        "d340925f7c624ccca98d369ef0fc0f81": {
          "model_module": "@jupyter-widgets/controls",
          "model_name": "HTMLModel",
          "state": {
            "_view_name": "HTMLView",
            "style": "IPY_MODEL_73ee8678d3834b0a8ef3f0c98f4b5b4e",
            "_dom_classes": [],
            "description": "",
            "_model_name": "HTMLModel",
            "placeholder": "​",
            "_view_module": "@jupyter-widgets/controls",
            "_model_module_version": "1.5.0",
            "value": " 104975/0 [01:23&lt;00:00, 1325.49 examples/s]",
            "_view_count": null,
            "_view_module_version": "1.5.0",
            "description_tooltip": null,
            "_model_module": "@jupyter-widgets/controls",
            "layout": "IPY_MODEL_1d1cf3044352456098b63a9354dbf16a"
          }
        },
        "5e7ccbbb44314fd9b0f8e72758840cf0": {
          "model_module": "@jupyter-widgets/controls",
          "model_name": "ProgressStyleModel",
          "state": {
            "_view_name": "StyleView",
            "_model_name": "ProgressStyleModel",
            "description_width": "initial",
            "_view_module": "@jupyter-widgets/base",
            "_model_module_version": "1.5.0",
            "_view_count": null,
            "_view_module_version": "1.2.0",
            "bar_color": null,
            "_model_module": "@jupyter-widgets/controls"
          }
        },
        "d12aaaa97db7460a8df12f95cf35e288": {
          "model_module": "@jupyter-widgets/base",
          "model_name": "LayoutModel",
          "state": {
            "_view_name": "LayoutView",
            "grid_template_rows": null,
            "right": null,
            "justify_content": null,
            "_view_module": "@jupyter-widgets/base",
            "overflow": null,
            "_model_module_version": "1.2.0",
            "_view_count": null,
            "flex_flow": null,
            "width": null,
            "min_width": null,
            "border": null,
            "align_items": null,
            "bottom": null,
            "_model_module": "@jupyter-widgets/base",
            "top": null,
            "grid_column": null,
            "overflow_y": null,
            "overflow_x": null,
            "grid_auto_flow": null,
            "grid_area": null,
            "grid_template_columns": null,
            "flex": null,
            "_model_name": "LayoutModel",
            "justify_items": null,
            "grid_row": null,
            "max_height": null,
            "align_content": null,
            "visibility": null,
            "align_self": null,
            "height": null,
            "min_height": null,
            "padding": null,
            "grid_auto_rows": null,
            "grid_gap": null,
            "max_width": null,
            "order": null,
            "_view_module_version": "1.2.0",
            "grid_template_areas": null,
            "object_position": null,
            "object_fit": null,
            "grid_auto_columns": null,
            "margin": null,
            "display": null,
            "left": null
          }
        },
        "73ee8678d3834b0a8ef3f0c98f4b5b4e": {
          "model_module": "@jupyter-widgets/controls",
          "model_name": "DescriptionStyleModel",
          "state": {
            "_view_name": "StyleView",
            "_model_name": "DescriptionStyleModel",
            "description_width": "",
            "_view_module": "@jupyter-widgets/base",
            "_model_module_version": "1.5.0",
            "_view_count": null,
            "_view_module_version": "1.2.0",
            "_model_module": "@jupyter-widgets/controls"
          }
        },
        "1d1cf3044352456098b63a9354dbf16a": {
          "model_module": "@jupyter-widgets/base",
          "model_name": "LayoutModel",
          "state": {
            "_view_name": "LayoutView",
            "grid_template_rows": null,
            "right": null,
            "justify_content": null,
            "_view_module": "@jupyter-widgets/base",
            "overflow": null,
            "_model_module_version": "1.2.0",
            "_view_count": null,
            "flex_flow": null,
            "width": null,
            "min_width": null,
            "border": null,
            "align_items": null,
            "bottom": null,
            "_model_module": "@jupyter-widgets/base",
            "top": null,
            "grid_column": null,
            "overflow_y": null,
            "overflow_x": null,
            "grid_auto_flow": null,
            "grid_area": null,
            "grid_template_columns": null,
            "flex": null,
            "_model_name": "LayoutModel",
            "justify_items": null,
            "grid_row": null,
            "max_height": null,
            "align_content": null,
            "visibility": null,
            "align_self": null,
            "height": null,
            "min_height": null,
            "padding": null,
            "grid_auto_rows": null,
            "grid_gap": null,
            "max_width": null,
            "order": null,
            "_view_module_version": "1.2.0",
            "grid_template_areas": null,
            "object_position": null,
            "object_fit": null,
            "grid_auto_columns": null,
            "margin": null,
            "display": null,
            "left": null
          }
        },
        "11c8ea74bd8545058d454e9e51afc69b": {
          "model_module": "@jupyter-widgets/controls",
          "model_name": "HBoxModel",
          "state": {
            "_view_name": "HBoxView",
            "_dom_classes": [],
            "_model_name": "HBoxModel",
            "_view_module": "@jupyter-widgets/controls",
            "_model_module_version": "1.5.0",
            "_view_count": null,
            "_view_module_version": "1.5.0",
            "box_style": "",
            "layout": "IPY_MODEL_4ebdae907ae74ab2be944d259b2406bf",
            "_model_module": "@jupyter-widgets/controls",
            "children": [
              "IPY_MODEL_2e185e4366f14b1d841c0cb3bf3f44e4",
              "IPY_MODEL_42d11843e0534435ab3df273aa86baaa"
            ]
          }
        },
        "4ebdae907ae74ab2be944d259b2406bf": {
          "model_module": "@jupyter-widgets/base",
          "model_name": "LayoutModel",
          "state": {
            "_view_name": "LayoutView",
            "grid_template_rows": null,
            "right": null,
            "justify_content": null,
            "_view_module": "@jupyter-widgets/base",
            "overflow": null,
            "_model_module_version": "1.2.0",
            "_view_count": null,
            "flex_flow": null,
            "width": null,
            "min_width": null,
            "border": null,
            "align_items": null,
            "bottom": null,
            "_model_module": "@jupyter-widgets/base",
            "top": null,
            "grid_column": null,
            "overflow_y": null,
            "overflow_x": null,
            "grid_auto_flow": null,
            "grid_area": null,
            "grid_template_columns": null,
            "flex": null,
            "_model_name": "LayoutModel",
            "justify_items": null,
            "grid_row": null,
            "max_height": null,
            "align_content": null,
            "visibility": null,
            "align_self": null,
            "height": null,
            "min_height": null,
            "padding": null,
            "grid_auto_rows": null,
            "grid_gap": null,
            "max_width": null,
            "order": null,
            "_view_module_version": "1.2.0",
            "grid_template_areas": null,
            "object_position": null,
            "object_fit": null,
            "grid_auto_columns": null,
            "margin": null,
            "display": null,
            "left": null
          }
        },
        "2e185e4366f14b1d841c0cb3bf3f44e4": {
          "model_module": "@jupyter-widgets/controls",
          "model_name": "FloatProgressModel",
          "state": {
            "_view_name": "ProgressView",
            "style": "IPY_MODEL_ec60bdceda1c4b42a630c57b12303d0d",
            "_dom_classes": [],
            "description": " 90%",
            "_model_name": "FloatProgressModel",
            "bar_style": "danger",
            "max": 104975,
            "_view_module": "@jupyter-widgets/controls",
            "_model_module_version": "1.5.0",
            "value": 93986,
            "_view_count": null,
            "_view_module_version": "1.5.0",
            "orientation": "horizontal",
            "min": 0,
            "description_tooltip": null,
            "_model_module": "@jupyter-widgets/controls",
            "layout": "IPY_MODEL_0c5d9dca41bf4182970956925c4ae4c2"
          }
        },
        "42d11843e0534435ab3df273aa86baaa": {
          "model_module": "@jupyter-widgets/controls",
          "model_name": "HTMLModel",
          "state": {
            "_view_name": "HTMLView",
            "style": "IPY_MODEL_cef4e4b7224941f19db82fda2638cf8d",
            "_dom_classes": [],
            "description": "",
            "_model_name": "HTMLModel",
            "placeholder": "​",
            "_view_module": "@jupyter-widgets/controls",
            "_model_module_version": "1.5.0",
            "value": " 93986/104975 [00:00&lt;09:04, 20.17 examples/s]",
            "_view_count": null,
            "_view_module_version": "1.5.0",
            "description_tooltip": null,
            "_model_module": "@jupyter-widgets/controls",
            "layout": "IPY_MODEL_31b3825a180d4baf85b818b5bcd7b980"
          }
        },
        "ec60bdceda1c4b42a630c57b12303d0d": {
          "model_module": "@jupyter-widgets/controls",
          "model_name": "ProgressStyleModel",
          "state": {
            "_view_name": "StyleView",
            "_model_name": "ProgressStyleModel",
            "description_width": "initial",
            "_view_module": "@jupyter-widgets/base",
            "_model_module_version": "1.5.0",
            "_view_count": null,
            "_view_module_version": "1.2.0",
            "bar_color": null,
            "_model_module": "@jupyter-widgets/controls"
          }
        },
        "0c5d9dca41bf4182970956925c4ae4c2": {
          "model_module": "@jupyter-widgets/base",
          "model_name": "LayoutModel",
          "state": {
            "_view_name": "LayoutView",
            "grid_template_rows": null,
            "right": null,
            "justify_content": null,
            "_view_module": "@jupyter-widgets/base",
            "overflow": null,
            "_model_module_version": "1.2.0",
            "_view_count": null,
            "flex_flow": null,
            "width": null,
            "min_width": null,
            "border": null,
            "align_items": null,
            "bottom": null,
            "_model_module": "@jupyter-widgets/base",
            "top": null,
            "grid_column": null,
            "overflow_y": null,
            "overflow_x": null,
            "grid_auto_flow": null,
            "grid_area": null,
            "grid_template_columns": null,
            "flex": null,
            "_model_name": "LayoutModel",
            "justify_items": null,
            "grid_row": null,
            "max_height": null,
            "align_content": null,
            "visibility": null,
            "align_self": null,
            "height": null,
            "min_height": null,
            "padding": null,
            "grid_auto_rows": null,
            "grid_gap": null,
            "max_width": null,
            "order": null,
            "_view_module_version": "1.2.0",
            "grid_template_areas": null,
            "object_position": null,
            "object_fit": null,
            "grid_auto_columns": null,
            "margin": null,
            "display": null,
            "left": null
          }
        },
        "cef4e4b7224941f19db82fda2638cf8d": {
          "model_module": "@jupyter-widgets/controls",
          "model_name": "DescriptionStyleModel",
          "state": {
            "_view_name": "StyleView",
            "_model_name": "DescriptionStyleModel",
            "description_width": "",
            "_view_module": "@jupyter-widgets/base",
            "_model_module_version": "1.5.0",
            "_view_count": null,
            "_view_module_version": "1.2.0",
            "_model_module": "@jupyter-widgets/controls"
          }
        },
        "31b3825a180d4baf85b818b5bcd7b980": {
          "model_module": "@jupyter-widgets/base",
          "model_name": "LayoutModel",
          "state": {
            "_view_name": "LayoutView",
            "grid_template_rows": null,
            "right": null,
            "justify_content": null,
            "_view_module": "@jupyter-widgets/base",
            "overflow": null,
            "_model_module_version": "1.2.0",
            "_view_count": null,
            "flex_flow": null,
            "width": null,
            "min_width": null,
            "border": null,
            "align_items": null,
            "bottom": null,
            "_model_module": "@jupyter-widgets/base",
            "top": null,
            "grid_column": null,
            "overflow_y": null,
            "overflow_x": null,
            "grid_auto_flow": null,
            "grid_area": null,
            "grid_template_columns": null,
            "flex": null,
            "_model_name": "LayoutModel",
            "justify_items": null,
            "grid_row": null,
            "max_height": null,
            "align_content": null,
            "visibility": null,
            "align_self": null,
            "height": null,
            "min_height": null,
            "padding": null,
            "grid_auto_rows": null,
            "grid_gap": null,
            "max_width": null,
            "order": null,
            "_view_module_version": "1.2.0",
            "grid_template_areas": null,
            "object_position": null,
            "object_fit": null,
            "grid_auto_columns": null,
            "margin": null,
            "display": null,
            "left": null
          }
        }
      }
    },
    "accelerator": "GPU"
  },
  "cells": [
    {
      "cell_type": "markdown",
      "metadata": {
        "id": "view-in-github",
        "colab_type": "text"
      },
      "source": [
        "<a href=\"https://colab.research.google.com/github/Shankar-Hadimani/ai-ml-engineering/blob/master/notebook/tf_sentiment_analysis.ipynb\" target=\"_parent\"><img src=\"https://colab.research.google.com/assets/colab-badge.svg\" alt=\"Open In Colab\"/></a>"
      ]
    },
    {
      "cell_type": "code",
      "metadata": {
        "id": "_7KxxXv3KtOa",
        "outputId": "fc9289ca-fcfb-4cb8-d4ee-563f7c126708",
        "colab": {
          "base_uri": "https://localhost:8080/"
        }
      },
      "source": [
        "!nvidia-smi"
      ],
      "execution_count": 1,
      "outputs": [
        {
          "output_type": "stream",
          "text": [
            "Fri Nov 13 15:22:09 2020       \n",
            "+-----------------------------------------------------------------------------+\n",
            "| NVIDIA-SMI 455.32.00    Driver Version: 418.67       CUDA Version: 10.1     |\n",
            "|-------------------------------+----------------------+----------------------+\n",
            "| GPU  Name        Persistence-M| Bus-Id        Disp.A | Volatile Uncorr. ECC |\n",
            "| Fan  Temp  Perf  Pwr:Usage/Cap|         Memory-Usage | GPU-Util  Compute M. |\n",
            "|                               |                      |               MIG M. |\n",
            "|===============================+======================+======================|\n",
            "|   0  Tesla T4            Off  | 00000000:00:04.0 Off |                    0 |\n",
            "| N/A   64C    P8    12W /  70W |      0MiB / 15079MiB |      0%      Default |\n",
            "|                               |                      |                 ERR! |\n",
            "+-------------------------------+----------------------+----------------------+\n",
            "                                                                               \n",
            "+-----------------------------------------------------------------------------+\n",
            "| Processes:                                                                  |\n",
            "|  GPU   GI   CI        PID   Type   Process name                  GPU Memory |\n",
            "|        ID   ID                                                   Usage      |\n",
            "|=============================================================================|\n",
            "|  No running processes found                                                 |\n",
            "+-----------------------------------------------------------------------------+\n"
          ],
          "name": "stdout"
        }
      ]
    },
    {
      "cell_type": "code",
      "metadata": {
        "id": "gVhiMKkALoGw",
        "outputId": "6c8835ab-d1ec-45d4-b4f4-fdaab9c64a59",
        "colab": {
          "base_uri": "https://localhost:8080/"
        }
      },
      "source": [
        "from __future__ import  absolute_import, division, print_function, unicode_literals\n",
        "try:\n",
        "  !pip uninstall  tb-nightly tensorboardX tensorboard\n",
        "  !pip install tb-nightly\n",
        "except Exception:\n",
        "  pass"
      ],
      "execution_count": 3,
      "outputs": [
        {
          "output_type": "stream",
          "text": [
            "Uninstalling tb-nightly-2.5.0a20201113:\n",
            "  Would remove:\n",
            "    /usr/local/bin/tensorboard\n",
            "    /usr/local/lib/python3.6/dist-packages/tb_nightly-2.5.0a20201113.dist-info/*\n",
            "    /usr/local/lib/python3.6/dist-packages/tensorboard/*\n",
            "  Would not remove (might be manually added):\n",
            "    /usr/local/lib/python3.6/dist-packages/tensorboard/plugins/beholder/__init__.py\n",
            "    /usr/local/lib/python3.6/dist-packages/tensorboard/plugins/beholder/beholder.py\n",
            "    /usr/local/lib/python3.6/dist-packages/tensorboard/plugins/beholder/beholder_plugin.py\n",
            "    /usr/local/lib/python3.6/dist-packages/tensorboard/plugins/beholder/beholder_plugin_loader.py\n",
            "    /usr/local/lib/python3.6/dist-packages/tensorboard/plugins/beholder/colormaps.py\n",
            "    /usr/local/lib/python3.6/dist-packages/tensorboard/plugins/beholder/file_system_tools.py\n",
            "    /usr/local/lib/python3.6/dist-packages/tensorboard/plugins/beholder/im_util.py\n",
            "    /usr/local/lib/python3.6/dist-packages/tensorboard/plugins/beholder/resources/arrays-missing.png\n",
            "    /usr/local/lib/python3.6/dist-packages/tensorboard/plugins/beholder/resources/frame-missing.png\n",
            "    /usr/local/lib/python3.6/dist-packages/tensorboard/plugins/beholder/resources/no-data.png\n",
            "    /usr/local/lib/python3.6/dist-packages/tensorboard/plugins/beholder/shared_config.py\n",
            "    /usr/local/lib/python3.6/dist-packages/tensorboard/plugins/beholder/video_writing.py\n",
            "    /usr/local/lib/python3.6/dist-packages/tensorboard/plugins/beholder/visualizer.py\n",
            "    /usr/local/lib/python3.6/dist-packages/tensorboard/plugins/debugger/__init__.py\n",
            "    /usr/local/lib/python3.6/dist-packages/tensorboard/plugins/debugger/comm_channel.py\n",
            "    /usr/local/lib/python3.6/dist-packages/tensorboard/plugins/debugger/constants.py\n",
            "    /usr/local/lib/python3.6/dist-packages/tensorboard/plugins/debugger/debug_graphs_helper.py\n",
            "    /usr/local/lib/python3.6/dist-packages/tensorboard/plugins/debugger/debugger_plugin.py\n",
            "    /usr/local/lib/python3.6/dist-packages/tensorboard/plugins/debugger/debugger_plugin_loader.py\n",
            "    /usr/local/lib/python3.6/dist-packages/tensorboard/plugins/debugger/debugger_server_lib.py\n",
            "    /usr/local/lib/python3.6/dist-packages/tensorboard/plugins/debugger/events_writer_manager.py\n",
            "    /usr/local/lib/python3.6/dist-packages/tensorboard/plugins/debugger/health_pill_calc.py\n",
            "    /usr/local/lib/python3.6/dist-packages/tensorboard/plugins/debugger/interactive_debugger_plugin.py\n",
            "    /usr/local/lib/python3.6/dist-packages/tensorboard/plugins/debugger/interactive_debugger_server_lib.py\n",
            "    /usr/local/lib/python3.6/dist-packages/tensorboard/plugins/debugger/numerics_alert.py\n",
            "    /usr/local/lib/python3.6/dist-packages/tensorboard/plugins/debugger/tensor_helper.py\n",
            "    /usr/local/lib/python3.6/dist-packages/tensorboard/plugins/debugger/tensor_store.py\n",
            "Proceed (y/n)? \u001b[31mERROR: Operation cancelled by user\u001b[0m\n",
            "^C\n",
            "Requirement already satisfied: tb-nightly in /usr/local/lib/python3.6/dist-packages (2.5.0a20201113)\n",
            "Requirement already satisfied: grpcio>=1.24.3 in /usr/local/lib/python3.6/dist-packages (from tb-nightly) (1.33.2)\n",
            "Requirement already satisfied: six>=1.10.0 in /usr/local/lib/python3.6/dist-packages (from tb-nightly) (1.15.0)\n",
            "Requirement already satisfied: requests<3,>=2.21.0 in /usr/local/lib/python3.6/dist-packages (from tb-nightly) (2.23.0)\n",
            "Requirement already satisfied: protobuf>=3.6.0 in /usr/local/lib/python3.6/dist-packages (from tb-nightly) (3.12.4)\n",
            "Requirement already satisfied: google-auth<2,>=1.6.3 in /usr/local/lib/python3.6/dist-packages (from tb-nightly) (1.17.2)\n",
            "Requirement already satisfied: wheel>=0.26; python_version >= \"3\" in /usr/local/lib/python3.6/dist-packages (from tb-nightly) (0.35.1)\n",
            "Requirement already satisfied: numpy>=1.12.0 in /usr/local/lib/python3.6/dist-packages (from tb-nightly) (1.18.5)\n",
            "Requirement already satisfied: markdown>=2.6.8 in /usr/local/lib/python3.6/dist-packages (from tb-nightly) (3.3.3)\n",
            "Requirement already satisfied: setuptools>=41.0.0 in /usr/local/lib/python3.6/dist-packages (from tb-nightly) (50.3.2)\n",
            "Requirement already satisfied: werkzeug>=0.11.15 in /usr/local/lib/python3.6/dist-packages (from tb-nightly) (1.0.1)\n",
            "Requirement already satisfied: tensorboard-plugin-wit>=1.6.0 in /usr/local/lib/python3.6/dist-packages (from tb-nightly) (1.7.0)\n",
            "Requirement already satisfied: absl-py>=0.4 in /usr/local/lib/python3.6/dist-packages (from tb-nightly) (0.10.0)\n",
            "Requirement already satisfied: google-auth-oauthlib<0.5,>=0.4.1 in /usr/local/lib/python3.6/dist-packages (from tb-nightly) (0.4.2)\n",
            "Requirement already satisfied: idna<3,>=2.5 in /usr/local/lib/python3.6/dist-packages (from requests<3,>=2.21.0->tb-nightly) (2.10)\n",
            "Requirement already satisfied: chardet<4,>=3.0.2 in /usr/local/lib/python3.6/dist-packages (from requests<3,>=2.21.0->tb-nightly) (3.0.4)\n",
            "Requirement already satisfied: urllib3!=1.25.0,!=1.25.1,<1.26,>=1.21.1 in /usr/local/lib/python3.6/dist-packages (from requests<3,>=2.21.0->tb-nightly) (1.24.3)\n",
            "Requirement already satisfied: certifi>=2017.4.17 in /usr/local/lib/python3.6/dist-packages (from requests<3,>=2.21.0->tb-nightly) (2020.6.20)\n",
            "Requirement already satisfied: pyasn1-modules>=0.2.1 in /usr/local/lib/python3.6/dist-packages (from google-auth<2,>=1.6.3->tb-nightly) (0.2.8)\n",
            "Requirement already satisfied: cachetools<5.0,>=2.0.0 in /usr/local/lib/python3.6/dist-packages (from google-auth<2,>=1.6.3->tb-nightly) (4.1.1)\n",
            "Requirement already satisfied: rsa<5,>=3.1.4; python_version >= \"3\" in /usr/local/lib/python3.6/dist-packages (from google-auth<2,>=1.6.3->tb-nightly) (4.6)\n",
            "Requirement already satisfied: importlib-metadata; python_version < \"3.8\" in /usr/local/lib/python3.6/dist-packages (from markdown>=2.6.8->tb-nightly) (2.0.0)\n",
            "Requirement already satisfied: requests-oauthlib>=0.7.0 in /usr/local/lib/python3.6/dist-packages (from google-auth-oauthlib<0.5,>=0.4.1->tb-nightly) (1.3.0)\n",
            "Requirement already satisfied: pyasn1<0.5.0,>=0.4.6 in /usr/local/lib/python3.6/dist-packages (from pyasn1-modules>=0.2.1->google-auth<2,>=1.6.3->tb-nightly) (0.4.8)\n",
            "Requirement already satisfied: zipp>=0.5 in /usr/local/lib/python3.6/dist-packages (from importlib-metadata; python_version < \"3.8\"->markdown>=2.6.8->tb-nightly) (3.4.0)\n",
            "Requirement already satisfied: oauthlib>=3.0.0 in /usr/local/lib/python3.6/dist-packages (from requests-oauthlib>=0.7.0->google-auth-oauthlib<0.5,>=0.4.1->tb-nightly) (3.1.0)\n",
            "The tensorboard extension is already loaded. To reload it, use:\n",
            "  %reload_ext tensorboard\n"
          ],
          "name": "stdout"
        }
      ]
    },
    {
      "cell_type": "code",
      "metadata": {
        "id": "VIvDX60POTfI",
        "outputId": "2855b5e9-bfc4-4610-abed-e91818d0f5d8",
        "colab": {
          "base_uri": "https://localhost:8080/"
        }
      },
      "source": [
        "import tensorflow as tf\n",
        "import os\n",
        "import datetime\n",
        "import tensorflow_datasets as tfds\n",
        "\n",
        "%load_ext tensorboard"
      ],
      "execution_count": 24,
      "outputs": [
        {
          "output_type": "stream",
          "text": [
            "The tensorboard extension is already loaded. To reload it, use:\n",
            "  %reload_ext tensorboard\n"
          ],
          "name": "stdout"
        }
      ]
    },
    {
      "cell_type": "code",
      "metadata": {
        "id": "kpLv6uvmNNhV",
        "outputId": "beb164b0-eaed-4f93-c922-997989db9dd2",
        "colab": {
          "base_uri": "https://localhost:8080/"
        }
      },
      "source": [
        "import pkg_resources\n",
        "for entry_point in pkg_resources.iter_entry_points('tensorboard_plugins'):\n",
        "  print(entry_point.dist)\n"
      ],
      "execution_count": 6,
      "outputs": [
        {
          "output_type": "stream",
          "text": [
            "tensorboard 2.3.0\n",
            "tensorboard-plugin-wit 1.7.0\n"
          ],
          "name": "stdout"
        }
      ]
    },
    {
      "cell_type": "code",
      "metadata": {
        "id": "Olae3OEJOXbo",
        "outputId": "2d765954-6acb-4476-dc55-79bc3b96fafe",
        "colab": {
          "base_uri": "https://localhost:8080/"
        }
      },
      "source": [
        "print(tf.__version__)"
      ],
      "execution_count": 7,
      "outputs": [
        {
          "output_type": "stream",
          "text": [
            "2.3.0\n"
          ],
          "name": "stdout"
        }
      ]
    },
    {
      "cell_type": "code",
      "metadata": {
        "id": "1WLPAxL-OuDy",
        "outputId": "19b09447-9f32-4c4b-952e-652620a173f3",
        "colab": {
          "base_uri": "https://localhost:8080/"
        }
      },
      "source": [
        "!ls -alrt /usr/local/lib/python3.6/dist-packages/tensorboard*"
      ],
      "execution_count": 8,
      "outputs": [
        {
          "output_type": "stream",
          "text": [
            "/usr/local/lib/python3.6/dist-packages/tensorboard_plugin_wit-1.7.0.dist-info:\n",
            "total 44\n",
            "-rw-r--r-- 1 root staff   92 Nov  6 17:35 WHEEL\n",
            "-rw-r--r-- 1 root staff   23 Nov  6 17:35 top_level.txt\n",
            "-rw-r--r-- 1 root staff  214 Nov  6 17:35 METADATA\n",
            "-rw-r--r-- 1 root staff   93 Nov  6 17:35 entry_points.txt\n",
            "-rw-r--r-- 1 root staff 8386 Nov  6 17:39 RECORD\n",
            "-rw-r--r-- 1 root staff    4 Nov  6 17:39 INSTALLER\n",
            "drwxr-sr-x 2 root staff 4096 Nov  6 17:39 .\n",
            "drwxrwsr-x 1 root staff 4096 Nov 13 15:23 ..\n",
            "\n",
            "/usr/local/lib/python3.6/dist-packages/tensorboard_plugin_wit:\n",
            "total 52\n",
            "-rw-r--r-- 1 root staff 19137 Nov  6 17:35 wit_plugin.py\n",
            "-rw-r--r-- 1 root staff  2934 Nov  6 17:35 wit_plugin_loader.py\n",
            "-rw-r--r-- 1 root staff     0 Nov  6 17:35 __init__.py\n",
            "drwxr-sr-x 4 root staff  4096 Nov  6 17:39 _vendor\n",
            "drwxr-sr-x 3 root staff  4096 Nov  6 17:39 _utils\n",
            "drwxr-sr-x 2 root staff  4096 Nov  6 17:39 static\n",
            "drwxr-sr-x 2 root staff  4096 Nov  6 17:39 __pycache__\n",
            "drwxr-sr-x 6 root staff  4096 Nov  6 17:39 .\n",
            "drwxrwsr-x 1 root staff  4096 Nov 13 15:23 ..\n",
            "\n",
            "/usr/local/lib/python3.6/dist-packages/tensorboard-2.3.0.dist-info:\n",
            "total 124\n",
            "-rw-r--r-- 1 root staff    92 Nov  6 17:35 WHEEL\n",
            "-rw-r--r-- 1 root staff    12 Nov  6 17:35 top_level.txt\n",
            "-rw-r--r-- 1 root staff  1956 Nov  6 17:35 METADATA\n",
            "-rw-r--r-- 1 root staff 38811 Nov  6 17:35 LICENSE\n",
            "-rw-r--r-- 1 root staff   157 Nov  6 17:35 entry_points.txt\n",
            "-rw-r--r-- 1 root staff 51595 Nov  6 17:39 RECORD\n",
            "-rw-r--r-- 1 root staff     4 Nov  6 17:39 INSTALLER\n",
            "drwxr-sr-x 2 root staff  4096 Nov  6 17:39 .\n",
            "drwxrwsr-x 1 root staff  4096 Nov 13 15:23 ..\n",
            "\n",
            "/usr/local/lib/python3.6/dist-packages/tensorboardcolab-0.0.22.dist-info:\n",
            "total 32\n",
            "-rw-r--r-- 1 root staff   93 Nov  6 17:39 WHEEL\n",
            "-rw-r--r-- 1 root staff   17 Nov  6 17:39 top_level.txt\n",
            "-rw-r--r-- 1 root staff  231 Nov  6 17:39 METADATA\n",
            "-rw-r--r-- 1 root staff  857 Nov  6 17:42 RECORD\n",
            "-rw-r--r-- 1 root staff    4 Nov  6 17:42 INSTALLER\n",
            "drwxr-sr-x 2 root staff 4096 Nov  6 17:42 .\n",
            "drwxrwsr-x 1 root staff 4096 Nov 13 15:23 ..\n",
            "\n",
            "/usr/local/lib/python3.6/dist-packages/tensorboardcolab:\n",
            "total 32\n",
            "-rw-r--r-- 1 root staff   76 Nov  6 17:39 __init__.py\n",
            "-rw-r--r-- 1 root staff 4736 Nov  6 17:39 core.py\n",
            "-rw-r--r-- 1 root staff 2468 Nov  6 17:39 callbacks.py\n",
            "drwxr-sr-x 2 root staff 4096 Nov  6 17:42 __pycache__\n",
            "drwxr-sr-x 3 root staff 4096 Nov  6 17:42 .\n",
            "drwxrwsr-x 1 root staff 4096 Nov 13 15:23 ..\n",
            "\n",
            "/usr/local/lib/python3.6/dist-packages/tensorboard:\n",
            "total 6240\n",
            "-rw-r--r-- 1 root staff    4234 Nov 13 15:23 __init__.py\n",
            "-rw-r--r-- 1 root staff    4583 Nov 13 15:23 errors.py\n",
            "-rw-r--r-- 1 root staff    4972 Nov 13 15:23 default.py\n",
            "-rw-r--r-- 1 root staff    5056 Nov 13 15:23 data_compat.py\n",
            "-rw-r--r-- 1 root staff    6818 Nov 13 15:23 dataclass_compat.py\n",
            "-rw-r--r-- 1 root staff    3177 Nov 13 15:23 context.py\n",
            "-rw-r--r-- 1 root staff    3805 Nov 13 15:23 auth.py\n",
            "-rw-r--r-- 1 root staff    5336 Nov 13 15:23 plugin_util.py\n",
            "-rw-r--r-- 1 root staff   14916 Nov 13 15:23 notebook.py\n",
            "-rw-r--r-- 1 root staff   16361 Nov 13 15:23 manager.py\n",
            "-rw-r--r-- 1 root staff    3067 Nov 13 15:23 main.py\n",
            "-rw-r--r-- 1 root staff    3664 Nov 13 15:23 lazy.py\n",
            "-rw-r--r-- 1 root staff     753 Nov 13 15:23 version.py\n",
            "-rw-r--r-- 1 root staff   30194 Nov 13 15:23 program.py\n",
            "-rwxr-xr-x 1 root staff 6167366 Nov 13 15:23 webfiles.zip\n",
            "drwxrwsr-x 1 root staff    4096 Nov 13 15:23 ..\n",
            "drwxr-sr-x 1 root staff    4096 Nov 13 15:23 .\n",
            "drwxr-sr-x 1 root staff    4096 Nov 13 15:23 __pycache__\n",
            "drwxr-sr-x 1 root staff    4096 Nov 13 15:23 summary\n",
            "drwxr-sr-x 1 root staff    4096 Nov 13 15:23 compat\n",
            "drwxr-sr-x 1 root staff    4096 Nov 13 15:23 backend\n",
            "drwxr-sr-x 1 root staff    4096 Nov 13 15:23 data\n",
            "drwxr-sr-x 1 root staff    4096 Nov 13 15:23 uploader\n",
            "drwxr-sr-x 1 root staff    4096 Nov 13 15:23 plugins\n",
            "drwxr-sr-x 1 root staff    4096 Nov 13 15:23 util\n",
            "drwxr-sr-x 1 root staff    4096 Nov 13 15:23 _vendor\n"
          ],
          "name": "stdout"
        }
      ]
    },
    {
      "cell_type": "code",
      "metadata": {
        "id": "_thJv9V8PA_p"
      },
      "source": [
        "!rm -r /usr/local/lib/python3.6/dist-packages/tensorboardcolab-0.0.22.dist-info"
      ],
      "execution_count": 9,
      "outputs": []
    },
    {
      "cell_type": "code",
      "metadata": {
        "id": "VW1MHyKiPR0y",
        "outputId": "2eef9c3b-035c-429e-c7b0-807f87280779",
        "colab": {
          "base_uri": "https://localhost:8080/"
        }
      },
      "source": [
        "print(tf.__version__)"
      ],
      "execution_count": 10,
      "outputs": [
        {
          "output_type": "stream",
          "text": [
            "2.3.0\n"
          ],
          "name": "stdout"
        }
      ]
    },
    {
      "cell_type": "code",
      "metadata": {
        "id": "KIpWFoFmPeMN",
        "outputId": "6ad7811b-d185-47bc-ed8a-b7484f8ecb07",
        "colab": {
          "base_uri": "https://localhost:8080/"
        }
      },
      "source": [
        "tf.config.experimental.list_logical_devices()"
      ],
      "execution_count": 11,
      "outputs": [
        {
          "output_type": "execute_result",
          "data": {
            "text/plain": [
              "[LogicalDevice(name='/device:CPU:0', device_type='CPU'),\n",
              " LogicalDevice(name='/device:XLA_CPU:0', device_type='XLA_CPU'),\n",
              " LogicalDevice(name='/device:XLA_GPU:0', device_type='XLA_GPU'),\n",
              " LogicalDevice(name='/device:GPU:0', device_type='GPU')]"
            ]
          },
          "metadata": {
            "tags": []
          },
          "execution_count": 11
        }
      ]
    },
    {
      "cell_type": "code",
      "metadata": {
        "id": "WDTYXkPWP_3D",
        "outputId": "1cc1af55-3384-41ba-b31f-620cf2510e41",
        "colab": {
          "base_uri": "https://localhost:8080/",
          "height": 325,
          "referenced_widgets": [
            "6efa674ad32a496a98de7b369b0c7f11",
            "1260c78f9b7947888560f8f6a81df637",
            "2418d7d67ffa4bb4a1b9afbdc8361369",
            "3bc3fba15f724b639ffeeb2303b99dbc",
            "c609dca0c6b5445d8402e811bbb0ba8c",
            "3bfac67b7ef3486da23e91cb617bad82",
            "11249ff2174c4c11b6fc729c86284bb9",
            "0768090e560f47c8bae34dc233bc5706",
            "dc851b45b078421b8387a784da8c6ea8",
            "bb86e08e601e4ce7b2ed3639d965a8b9",
            "34ee076ae6e24f8692a910f2a3d2a3f6",
            "51ccc5e3dfd34791b08765cc33ef1bca",
            "668579b61c7543489364d5eb477448f6",
            "8b43cddf59da4c189cb7c5e0fb4db974",
            "b749201ebcc3439f92410eeef3df606d",
            "4b05af34b96743aa98315186c9894891",
            "d9d69b9dc8604da7976fb5fa8d7113a3",
            "945cf89657b14a95868394ed9786ef70",
            "99d71ca6e9f5440b9e8b8e800d3b4a97",
            "6937bb5b7bbc42fda302d5a0414378ba",
            "5a51043c45124742a0a20069f3bc1d97",
            "7f7fe37365de4dd2a39bbfdb84cbec1c",
            "e229f3e012024c058f52ac6fb6d34191",
            "9596d6b37d74424ca7378c7122fccc59",
            "e7f0fa12ba7d47bfb08ea385157134f6",
            "fbebfb5eccf445068291611599f3f985",
            "48370ddefd294fedb9bde0dd7ba32682",
            "d340925f7c624ccca98d369ef0fc0f81",
            "5e7ccbbb44314fd9b0f8e72758840cf0",
            "d12aaaa97db7460a8df12f95cf35e288",
            "73ee8678d3834b0a8ef3f0c98f4b5b4e",
            "1d1cf3044352456098b63a9354dbf16a",
            "11c8ea74bd8545058d454e9e51afc69b",
            "4ebdae907ae74ab2be944d259b2406bf",
            "2e185e4366f14b1d841c0cb3bf3f44e4",
            "42d11843e0534435ab3df273aa86baaa",
            "ec60bdceda1c4b42a630c57b12303d0d",
            "0c5d9dca41bf4182970956925c4ae4c2",
            "cef4e4b7224941f19db82fda2638cf8d",
            "31b3825a180d4baf85b818b5bcd7b980"
          ]
        }
      },
      "source": [
        "dataset, info = tfds.load('amazon_us_reviews/Mobile_Electronics_v1_00', with_info=True)\n",
        "train_dataset = dataset['train']"
      ],
      "execution_count": 12,
      "outputs": [
        {
          "output_type": "stream",
          "text": [
            "\u001b[1mDownloading and preparing dataset amazon_us_reviews/Mobile_Electronics_v1_00/0.1.0 (download: 21.81 MiB, generated: Unknown size, total: 21.81 MiB) to /root/tensorflow_datasets/amazon_us_reviews/Mobile_Electronics_v1_00/0.1.0...\u001b[0m\n"
          ],
          "name": "stdout"
        },
        {
          "output_type": "display_data",
          "data": {
            "application/vnd.jupyter.widget-view+json": {
              "model_id": "6efa674ad32a496a98de7b369b0c7f11",
              "version_minor": 0,
              "version_major": 2
            },
            "text/plain": [
              "HBox(children=(FloatProgress(value=1.0, bar_style='info', description='Dl Completed...', max=1.0, style=Progre…"
            ]
          },
          "metadata": {
            "tags": []
          }
        },
        {
          "output_type": "display_data",
          "data": {
            "application/vnd.jupyter.widget-view+json": {
              "model_id": "dc851b45b078421b8387a784da8c6ea8",
              "version_minor": 0,
              "version_major": 2
            },
            "text/plain": [
              "HBox(children=(FloatProgress(value=1.0, bar_style='info', description='Dl Size...', max=1.0, style=ProgressSty…"
            ]
          },
          "metadata": {
            "tags": []
          }
        },
        {
          "output_type": "display_data",
          "data": {
            "application/vnd.jupyter.widget-view+json": {
              "model_id": "d9d69b9dc8604da7976fb5fa8d7113a3",
              "version_minor": 0,
              "version_major": 2
            },
            "text/plain": [
              "HBox(children=(FloatProgress(value=1.0, bar_style='info', description='Extraction completed...', max=1.0, styl…"
            ]
          },
          "metadata": {
            "tags": []
          }
        },
        {
          "output_type": "stream",
          "text": [
            "\n",
            "\n",
            "\n",
            "\n",
            "\n",
            "\n"
          ],
          "name": "stdout"
        },
        {
          "output_type": "display_data",
          "data": {
            "application/vnd.jupyter.widget-view+json": {
              "model_id": "e7f0fa12ba7d47bfb08ea385157134f6",
              "version_minor": 0,
              "version_major": 2
            },
            "text/plain": [
              "HBox(children=(FloatProgress(value=1.0, bar_style='info', max=1.0), HTML(value='')))"
            ]
          },
          "metadata": {
            "tags": []
          }
        },
        {
          "output_type": "stream",
          "text": [
            "\rShuffling and writing examples to /root/tensorflow_datasets/amazon_us_reviews/Mobile_Electronics_v1_00/0.1.0.incompleteUULWE3/amazon_us_reviews-train.tfrecord\n"
          ],
          "name": "stdout"
        },
        {
          "output_type": "display_data",
          "data": {
            "application/vnd.jupyter.widget-view+json": {
              "model_id": "11c8ea74bd8545058d454e9e51afc69b",
              "version_minor": 0,
              "version_major": 2
            },
            "text/plain": [
              "HBox(children=(FloatProgress(value=0.0, max=104975.0), HTML(value='')))"
            ]
          },
          "metadata": {
            "tags": []
          }
        },
        {
          "output_type": "stream",
          "text": [
            "\u001b[1mDataset amazon_us_reviews downloaded and prepared to /root/tensorflow_datasets/amazon_us_reviews/Mobile_Electronics_v1_00/0.1.0. Subsequent calls will reuse this data.\u001b[0m\n",
            "\r"
          ],
          "name": "stdout"
        }
      ]
    },
    {
      "cell_type": "code",
      "metadata": {
        "id": "FdaAs7IWQyUY",
        "outputId": "6ecd7a84-531c-4d51-8f09-196df820d910",
        "colab": {
          "base_uri": "https://localhost:8080/"
        }
      },
      "source": [
        "info"
      ],
      "execution_count": 14,
      "outputs": [
        {
          "output_type": "execute_result",
          "data": {
            "text/plain": [
              "tfds.core.DatasetInfo(\n",
              "    name='amazon_us_reviews',\n",
              "    version=0.1.0,\n",
              "    description='Amazon Customer Reviews (a.k.a. Product Reviews) is one of Amazons iconic products. In a period of over two decades since the first review in 1995, millions of Amazon customers have contributed over a hundred million reviews to express opinions and describe their experiences regarding products on the Amazon.com website. This makes Amazon Customer Reviews a rich source of information for academic researchers in the fields of Natural Language Processing (NLP), Information Retrieval (IR), and Machine Learning (ML), amongst others. Accordingly, we are releasing this data to further research in multiple disciplines related to understanding customer product experiences. Specifically, this dataset was constructed to represent a sample of customer evaluations and opinions, variation in the perception of a product across geographical regions, and promotional intent or bias in reviews.\n",
              "\n",
              "Over 130+ million customer reviews are available to researchers as part of this release. The data is available in TSV files in the amazon-reviews-pds S3 bucket in AWS US East Region. Each line in the data files corresponds to an individual review (tab delimited, with no quote and escape characters).\n",
              "\n",
              "Each Dataset contains the following columns : \n",
              "  marketplace       - 2 letter country code of the marketplace where the review was written.\n",
              "  customer_id       - Random identifier that can be used to aggregate reviews written by a single author.\n",
              "  review_id         - The unique ID of the review.\n",
              "  product_id        - The unique Product ID the review pertains to. In the multilingual dataset the reviews\n",
              "                      for the same product in different countries can be grouped by the same product_id.\n",
              "  product_parent    - Random identifier that can be used to aggregate reviews for the same product.\n",
              "  product_title     - Title of the product.\n",
              "  product_category  - Broad product category that can be used to group reviews \n",
              "                      (also used to group the dataset into coherent parts).\n",
              "  star_rating       - The 1-5 star rating of the review.\n",
              "  helpful_votes     - Number of helpful votes.\n",
              "  total_votes       - Number of total votes the review received.\n",
              "  vine              - Review was written as part of the Vine program.\n",
              "  verified_purchase - The review is on a verified purchase.\n",
              "  review_headline   - The title of the review.\n",
              "  review_body       - The review text.\n",
              "  review_date       - The date the review was written.',\n",
              "    homepage='https://s3.amazonaws.com/amazon-reviews-pds/readme.html',\n",
              "    features=FeaturesDict({\n",
              "        'data': FeaturesDict({\n",
              "            'customer_id': tf.string,\n",
              "            'helpful_votes': tf.int32,\n",
              "            'marketplace': tf.string,\n",
              "            'product_category': tf.string,\n",
              "            'product_id': tf.string,\n",
              "            'product_parent': tf.string,\n",
              "            'product_title': tf.string,\n",
              "            'review_body': tf.string,\n",
              "            'review_date': tf.string,\n",
              "            'review_headline': tf.string,\n",
              "            'review_id': tf.string,\n",
              "            'star_rating': tf.int32,\n",
              "            'total_votes': tf.int32,\n",
              "            'verified_purchase': ClassLabel(shape=(), dtype=tf.int64, num_classes=2),\n",
              "            'vine': ClassLabel(shape=(), dtype=tf.int64, num_classes=2),\n",
              "        }),\n",
              "    }),\n",
              "    total_num_examples=104975,\n",
              "    splits={\n",
              "        'train': 104975,\n",
              "    },\n",
              "    supervised_keys=None,\n",
              "    citation=\"\"\"\"\"\",\n",
              "    redistribution_info=,\n",
              ")"
            ]
          },
          "metadata": {
            "tags": []
          },
          "execution_count": 14
        }
      ]
    },
    {
      "cell_type": "code",
      "metadata": {
        "id": "LcB5wtrHRVPZ",
        "outputId": "cc5a0297-34f2-471d-d6d5-ecc501a04ad5",
        "colab": {
          "base_uri": "https://localhost:8080/"
        }
      },
      "source": [
        "print(train_dataset)"
      ],
      "execution_count": 15,
      "outputs": [
        {
          "output_type": "stream",
          "text": [
            "<PrefetchDataset shapes: {data: {customer_id: (), helpful_votes: (), marketplace: (), product_category: (), product_id: (), product_parent: (), product_title: (), review_body: (), review_date: (), review_headline: (), review_id: (), star_rating: (), total_votes: (), verified_purchase: (), vine: ()}}, types: {data: {customer_id: tf.string, helpful_votes: tf.int32, marketplace: tf.string, product_category: tf.string, product_id: tf.string, product_parent: tf.string, product_title: tf.string, review_body: tf.string, review_date: tf.string, review_headline: tf.string, review_id: tf.string, star_rating: tf.int32, total_votes: tf.int32, verified_purchase: tf.int64, vine: tf.int64}}>\n"
          ],
          "name": "stdout"
        }
      ]
    },
    {
      "cell_type": "code",
      "metadata": {
        "id": "tiAfX6eCRsDM",
        "outputId": "098a5b17-04c7-4549-aab9-7627f6bb67ad",
        "colab": {
          "base_uri": "https://localhost:8080/"
        }
      },
      "source": [
        "len(list(train_dataset))"
      ],
      "execution_count": 18,
      "outputs": [
        {
          "output_type": "execute_result",
          "data": {
            "text/plain": [
              "104975"
            ]
          },
          "metadata": {
            "tags": []
          },
          "execution_count": 18
        }
      ]
    },
    {
      "cell_type": "code",
      "metadata": {
        "id": "ru9NEnE2TH8g"
      },
      "source": [
        "BUFFER_SIZE = 30000\n",
        "BATCH_SIZE = 128"
      ],
      "execution_count": 19,
      "outputs": []
    },
    {
      "cell_type": "code",
      "metadata": {
        "id": "W1PtpbAbTRYM"
      },
      "source": [
        "train_dataset = train_dataset.shuffle(BUFFER_SIZE, reshuffle_each_iteration=False)"
      ],
      "execution_count": 20,
      "outputs": []
    },
    {
      "cell_type": "code",
      "metadata": {
        "id": "I3gyT8rTTbyX",
        "outputId": "b9462db5-9b13-4265-f31b-dd874bb6e490",
        "colab": {
          "base_uri": "https://localhost:8080/"
        }
      },
      "source": [
        "# print the each record, each features is an tensor object unlike pandas dataframe.\n",
        "# so to view sample  data, iterate over picked records\n",
        "for reviews in train_dataset.take(2):  \n",
        "  print(reviews)   \n"
      ],
      "execution_count": 21,
      "outputs": [
        {
          "output_type": "stream",
          "text": [
            "{'data': {'customer_id': <tf.Tensor: shape=(), dtype=string, numpy=b'42942316'>, 'helpful_votes': <tf.Tensor: shape=(), dtype=int32, numpy=0>, 'marketplace': <tf.Tensor: shape=(), dtype=string, numpy=b'US'>, 'product_category': <tf.Tensor: shape=(), dtype=string, numpy=b'Mobile_Electronics'>, 'product_id': <tf.Tensor: shape=(), dtype=string, numpy=b'B00QX3OMVQ'>, 'product_parent': <tf.Tensor: shape=(), dtype=string, numpy=b'538890715'>, 'product_title': <tf.Tensor: shape=(), dtype=string, numpy=b'ReplacementRemote Control For Pioneer AVH-P4000 AVH-P4000DVD AVH-P4100DVD AVH-P4200DVD DVD CD Car Stereo AV Receiver System'>, 'review_body': <tf.Tensor: shape=(), dtype=string, numpy=b'Remote works great.... seller is very helpful....and I like fast resonse..... I would definitely order  again....I have also recommended this company to a friend..'>, 'review_date': <tf.Tensor: shape=(), dtype=string, numpy=b'2015-06-21'>, 'review_headline': <tf.Tensor: shape=(), dtype=string, numpy=b'Very impressed with the seller....'>, 'review_id': <tf.Tensor: shape=(), dtype=string, numpy=b'R2IH5TND6Z4XXJ'>, 'star_rating': <tf.Tensor: shape=(), dtype=int32, numpy=5>, 'total_votes': <tf.Tensor: shape=(), dtype=int32, numpy=0>, 'verified_purchase': <tf.Tensor: shape=(), dtype=int64, numpy=0>, 'vine': <tf.Tensor: shape=(), dtype=int64, numpy=1>}}\n",
            "{'data': {'customer_id': <tf.Tensor: shape=(), dtype=string, numpy=b'10787934'>, 'helpful_votes': <tf.Tensor: shape=(), dtype=int32, numpy=0>, 'marketplace': <tf.Tensor: shape=(), dtype=string, numpy=b'US'>, 'product_category': <tf.Tensor: shape=(), dtype=string, numpy=b'Mobile_Electronics'>, 'product_id': <tf.Tensor: shape=(), dtype=string, numpy=b'B00MPLVOCK'>, 'product_parent': <tf.Tensor: shape=(), dtype=string, numpy=b'834719578'>, 'product_title': <tf.Tensor: shape=(), dtype=string, numpy=b'Voberry\\xc2\\xae New Arrival Fashion Wireless Stereo Headset Sport MP3 Player FM Radio Micro SD Slot Headphones (Black)'>, 'review_body': <tf.Tensor: shape=(), dtype=string, numpy=b'dont do it not blutooth  i ordered 2  one only 1 ear work  they are  craap'>, 'review_date': <tf.Tensor: shape=(), dtype=string, numpy=b'2014-10-06'>, 'review_headline': <tf.Tensor: shape=(), dtype=string, numpy=b'One Star'>, 'review_id': <tf.Tensor: shape=(), dtype=string, numpy=b'R1AVX6FQ6ZJ9HK'>, 'star_rating': <tf.Tensor: shape=(), dtype=int32, numpy=1>, 'total_votes': <tf.Tensor: shape=(), dtype=int32, numpy=0>, 'verified_purchase': <tf.Tensor: shape=(), dtype=int64, numpy=0>, 'vine': <tf.Tensor: shape=(), dtype=int64, numpy=1>}}\n"
          ],
          "name": "stdout"
        }
      ]
    },
    {
      "cell_type": "code",
      "metadata": {
        "id": "wqbn8YhITeMy",
        "outputId": "fba2f809-0953-488d-8fe8-d30db4de02f1",
        "colab": {
          "base_uri": "https://localhost:8080/"
        }
      },
      "source": [
        "# view selective features from 10 records from tensor dataset.\n",
        "for reviews in train_dataset.take(10):\n",
        "  review_text = reviews['data']\n",
        "  print(review_text.get('review_body').numpy())\n",
        "  print(review_text.get('star_rating'))\n",
        "  print(tf.where(review_text.get('star_rating')>3,1,0).numpy())"
      ],
      "execution_count": 22,
      "outputs": [
        {
          "output_type": "stream",
          "text": [
            "b'Remote works great.... seller is very helpful....and I like fast resonse..... I would definitely order  again....I have also recommended this company to a friend..'\n",
            "tf.Tensor(5, shape=(), dtype=int32)\n",
            "1\n",
            "b'dont do it not blutooth  i ordered 2  one only 1 ear work  they are  craap'\n",
            "tf.Tensor(1, shape=(), dtype=int32)\n",
            "0\n",
            "b'i had a bit difficulty to make it work, the instruction was not so clear and i am no familiar with those things., But when i did make it work it was ok, it is smal so very portable'\n",
            "tf.Tensor(4, shape=(), dtype=int32)\n",
            "1\n",
            "b'i love this skin case for its sleek and trendy design.  its good for protection from scratches, but not as a shock absorber for any falls.'\n",
            "tf.Tensor(4, shape=(), dtype=int32)\n",
            "1\n",
            "b'For my grandson and he really likes it...  He and his little brother wanted covers for their iPods and this is what he chose'\n",
            "tf.Tensor(5, shape=(), dtype=int32)\n",
            "1\n",
            "b\"This screen protector makes my iPod look like a mirror and is super easy to put on. The protector is rigid which makes it easy to put on. I had only one bubble that I was able to smooth out with my finger. Each protector comes with its own cleaning cloth. I've had one protector on my iPod for over a month and it still looks new. It still amazes me when I turn on my iPod and the screen pops up. It's like it comes out of nowhere. I can see the screen just as well as when I didn't have the protector on. No dimming. This protector makes my iPod look sleek and chic! I highly recommend it. Believe me it comes in handy because it's not just a screen protector.\"\n",
            "tf.Tensor(5, shape=(), dtype=int32)\n",
            "1\n",
            "b'It does not,work no tech-support whatsoever. This software does not work on your computer,!!! Try to return it and you cannot return it.'\n",
            "tf.Tensor(1, shape=(), dtype=int32)\n",
            "0\n",
            "b'Attach this kit to your new deck with the included metal screws, and it holds it securely in place, while providing a convenient slot for the case of the cd currently playing. Installation was easy and I love how it ended up.'\n",
            "tf.Tensor(5, shape=(), dtype=int32)\n",
            "1\n",
            "b'this item has great quality and has a tight fight and doesnt fall of like all my othe cases. the cute little faces are adorable. i reccomend this to anyone. the only bad side is it sometimes gets stuck under the screen protector but oh well.'\n",
            "tf.Tensor(4, shape=(), dtype=int32)\n",
            "1\n",
            "b\"I can't believe the bad reviews on this speaker, strickly reviewing just the sound quality, it is excellent. Unbelievable volumn. will handle a 20x20 room.  Hey, it's $8.00 not a $200 Bose speaker\"\n",
            "tf.Tensor(5, shape=(), dtype=int32)\n",
            "1\n"
          ],
          "name": "stdout"
        }
      ]
    },
    {
      "cell_type": "code",
      "metadata": {
        "id": "x5hzKx3qOR--",
        "outputId": "bbfe34a5-25b4-48a6-dd6c-01d4477594ce",
        "colab": {
          "base_uri": "https://localhost:8080/"
        }
      },
      "source": [
        "#begin pre-process the data/feature engineer\n",
        "#tokenize the text body\n",
        "#tokenizer = tfds.features.text.Tokenizer() ### deprecated\n",
        "tokenizer = tfds.deprecated.text.Tokenizer()\n",
        "\n",
        "\n",
        "\n",
        "#create an sempty set, to hold only unique words\n",
        "vocabulary_set = set()\n",
        "\n",
        "### tokenize the text body\n",
        "for _, reviews in train_dataset.enumerate():\n",
        "  review_text=reviews['data']\n",
        "  reviews_tokens = tokenizer.tokenize(review_text.get('review_body').numpy())\n",
        "  vocabulary_set.update(reviews_tokens)\n",
        "\n",
        "### get the length of the set \n",
        "vocab_size = len(vocabulary_set)\n",
        "vocab_size"
      ],
      "execution_count": 29,
      "outputs": [
        {
          "output_type": "execute_result",
          "data": {
            "text/plain": [
              "73738"
            ]
          },
          "metadata": {
            "tags": []
          },
          "execution_count": 29
        }
      ]
    },
    {
      "cell_type": "code",
      "metadata": {
        "id": "pn4EixJPQttz"
      },
      "source": [
        "#encode each of vocabulary words from set, with numeric values\n",
        "##encoder = tfds.features.text.TokenTextEncoder(vocabulary_set) ### deprecated this method\n",
        "encoder = tfds.deprecated.text.TokenTextEncoder(vocabulary_set)"
      ],
      "execution_count": 32,
      "outputs": []
    },
    {
      "cell_type": "code",
      "metadata": {
        "id": "u_KKmK0CS5le",
        "outputId": "f8221daf-6fe8-4875-cc16-0b02bff580f4",
        "colab": {
          "base_uri": "https://localhost:8080/"
        }
      },
      "source": [
        "### view the 5 rows of encoded values(,for visibility)\n",
        "for reviews in train_dataset.take(5):\n",
        "  review_text = reviews['data']\n",
        "  print(review_text.get('review_body').numpy())\n",
        "  encoded_example = encoder.encode(review_text.get('review_body').numpy())\n",
        "  print(encoded_example)\n"
      ],
      "execution_count": 33,
      "outputs": [
        {
          "output_type": "stream",
          "text": [
            "b'Remote works great.... seller is very helpful....and I like fast resonse..... I would definitely order  again....I have also recommended this company to a friend..'\n",
            "[15492, 48495, 58024, 44286, 11045, 53329, 43570, 70066, 45797, 51063, 64262, 45485, 45797, 41859, 31594, 57595, 39198, 45797, 42160, 63314, 12277, 7096, 11894, 21634, 2974, 35537]\n",
            "b'dont do it not blutooth  i ordered 2  one only 1 ear work  they are  craap'\n",
            "[37658, 10812, 20615, 14501, 35117, 34096, 18083, 26938, 60036, 43333, 31331, 62361, 170, 2074, 32234, 41245]\n",
            "b'i had a bit difficulty to make it work, the instruction was not so clear and i am no familiar with those things., But when i did make it work it was ok, it is smal so very portable'\n",
            "[34096, 51400, 2974, 60525, 35943, 21634, 19136, 20615, 170, 20850, 21083, 65420, 14501, 32862, 43466, 70066, 34096, 17964, 56064, 9267, 60684, 40777, 30912, 40441, 23885, 34096, 23748, 19136, 20615, 170, 20615, 65420, 51832, 20615, 11045, 61326, 32862, 53329, 40498]\n",
            "b'i love this skin case for its sleek and trendy design.  its good for protection from scratches, but not as a shock absorber for any falls.'\n",
            "[34096, 68696, 7096, 13117, 3211, 20398, 42469, 28469, 70066, 10661, 44429, 42469, 49074, 20398, 2280, 18993, 35482, 22684, 14501, 28885, 2974, 55605, 16740, 20398, 22668, 42992]\n",
            "b'For my grandson and he really likes it...  He and his little brother wanted covers for their iPods and this is what he chose'\n",
            "[33191, 70474, 1314, 70066, 42984, 49916, 21151, 20615, 18875, 70066, 39283, 63405, 48667, 8056, 19643, 20398, 59963, 64567, 70066, 7096, 11045, 54519, 42984, 34018]\n"
          ],
          "name": "stdout"
        }
      ]
    },
    {
      "cell_type": "code",
      "metadata": {
        "id": "pK_pHMpCWWBF",
        "outputId": "5830528f-5754-4b69-9196-16ad4de31f5c",
        "colab": {
          "base_uri": "https://localhost:8080/"
        }
      },
      "source": [
        "## to visualise better,\n",
        "for i in encoded_example:\n",
        "  print('{} ----- >{} '.format(i, encoder.decode([i])))"
      ],
      "execution_count": 34,
      "outputs": [
        {
          "output_type": "stream",
          "text": [
            "33191 ----- >For \n",
            "70474 ----- >my \n",
            "1314 ----- >grandson \n",
            "70066 ----- >and \n",
            "42984 ----- >he \n",
            "49916 ----- >really \n",
            "21151 ----- >likes \n",
            "20615 ----- >it \n",
            "18875 ----- >He \n",
            "70066 ----- >and \n",
            "39283 ----- >his \n",
            "63405 ----- >little \n",
            "48667 ----- >brother \n",
            "8056 ----- >wanted \n",
            "19643 ----- >covers \n",
            "20398 ----- >for \n",
            "59963 ----- >their \n",
            "64567 ----- >iPods \n",
            "70066 ----- >and \n",
            "7096 ----- >this \n",
            "11045 ----- >is \n",
            "54519 ----- >what \n",
            "42984 ----- >he \n",
            "34018 ----- >chose \n"
          ],
          "name": "stdout"
        }
      ]
    },
    {
      "cell_type": "code",
      "metadata": {
        "id": "4MrS5pVLW4FZ"
      },
      "source": [
        "### func to encode the text body\n",
        "def encode_text(text_tensor, label_tensor):\n",
        "  encoded_text = encoder.encode(text_tensor.numpy())\n",
        "  label = tf.where(label_tensor>3, 1,0)\n",
        "  return encoded_text, label\n",
        "\n",
        "\n",
        "### wrapper func to extract text body and review from dataset\n",
        "def extract_encode_text(tensor_data):\n",
        "  text = tensor_data['data'].get('review_body')\n",
        "  rating = tensor_data['data'].get('star_rating')\n",
        "\n",
        "  encoded_text, label = tf.py_function(encode_text, \n",
        "                                       inp=[text, rating],\n",
        "                                       Tout=(tf.int64, tf.int32)\n",
        "                                       )\n",
        "  encoded_text.set_shape([None])   ## not necessary step. shaping happens on it's own\n",
        "  label.set_shape([])              ## not necessary step. shaping happens on it's own\n",
        "  return encoded_text, label\n"
      ],
      "execution_count": 35,
      "outputs": []
    },
    {
      "cell_type": "code",
      "metadata": {
        "id": "RkWmBFdHbufA"
      },
      "source": [
        "### appy function on true dataset\n",
        "arr_encoded_data = train_dataset.map(extract_encode_text)"
      ],
      "execution_count": 37,
      "outputs": []
    },
    {
      "cell_type": "code",
      "metadata": {
        "id": "iw0WIubacLVn",
        "outputId": "bb243ea2-2181-4a3e-faa6-2ebf2bdd3f43",
        "colab": {
          "base_uri": "https://localhost:8080/"
        }
      },
      "source": [
        "for i, j in arr_encoded_data.take(2):\n",
        "  print('encoded text value are: {}, and label is: {}'.format(i, j)) "
      ],
      "execution_count": 38,
      "outputs": [
        {
          "output_type": "stream",
          "text": [
            "encoded text value are: [15492 48495 58024 44286 11045 53329 43570 70066 45797 51063 64262 45485\n",
            " 45797 41859 31594 57595 39198 45797 42160 63314 12277  7096 11894 21634\n",
            "  2974 35537], and label is: 1\n",
            "encoded text value are: [37658 10812 20615 14501 35117 34096 18083 26938 60036 43333 31331 62361\n",
            "   170  2074 32234 41245], and label is: 0\n"
          ],
          "name": "stdout"
        }
      ]
    },
    {
      "cell_type": "code",
      "metadata": {
        "id": "DlZ4sk2ZfZ1i"
      },
      "source": [
        "### for this use case: get the take_size as the test data and remaining as train data\n",
        "### randomly shuffle the train data\n",
        "### pad the batches to align varying lenghts. each reviews has variable length, defaulting each review to same length in numeic encoders\n",
        "\n",
        "TAKE_SIZE = 10000  ### taking test dataset as 10K rows\n",
        "train_data = arr_encoded_data.skip(TAKE_SIZE).shuffle(BUFFER_SIZE)\n",
        "train_data = train_data.padded_batch(BATCH_SIZE)  ### pad with zeros\n",
        "\n",
        "test_data = arr_encoded_data.take(TAKE_SIZE)\n",
        "test_data = test_data.padded_batch(BATCH_SIZE)\n"
      ],
      "execution_count": 40,
      "outputs": []
    },
    {
      "cell_type": "code",
      "metadata": {
        "id": "qRxAgqKohnLK",
        "outputId": "1f68b8aa-a9b5-492f-96ad-dd13073aec74",
        "colab": {
          "base_uri": "https://localhost:8080/"
        }
      },
      "source": [
        "### add one more feature as zero\n",
        "vocab_size +=1\n",
        "\n",
        "### view the first record distribution\n",
        "sample_text, sample_label = next(iter(test_data))\n",
        "sample_text[0], sample_label[0]"
      ],
      "execution_count": 42,
      "outputs": [
        {
          "output_type": "execute_result",
          "data": {
            "text/plain": [
              "(<tf.Tensor: shape=(588,), dtype=int64, numpy=\n",
              " array([15492, 48495, 58024, 44286, 11045, 53329, 43570, 70066, 45797,\n",
              "        51063, 64262, 45485, 45797, 41859, 31594, 57595, 39198, 45797,\n",
              "        42160, 63314, 12277,  7096, 11894, 21634,  2974, 35537,     0,\n",
              "            0,     0,     0,     0,     0,     0,     0,     0,     0,\n",
              "            0,     0,     0,     0,     0,     0,     0,     0,     0,\n",
              "            0,     0,     0,     0,     0,     0,     0,     0,     0,\n",
              "            0,     0,     0,     0,     0,     0,     0,     0,     0,\n",
              "            0,     0,     0,     0,     0,     0,     0,     0,     0,\n",
              "            0,     0,     0,     0,     0,     0,     0,     0,     0,\n",
              "            0,     0,     0,     0,     0,     0,     0,     0,     0,\n",
              "            0,     0,     0,     0,     0,     0,     0,     0,     0,\n",
              "            0,     0,     0,     0,     0,     0,     0,     0,     0,\n",
              "            0,     0,     0,     0,     0,     0,     0,     0,     0,\n",
              "            0,     0,     0,     0,     0,     0,     0,     0,     0,\n",
              "            0,     0,     0,     0,     0,     0,     0,     0,     0,\n",
              "            0,     0,     0,     0,     0,     0,     0,     0,     0,\n",
              "            0,     0,     0,     0,     0,     0,     0,     0,     0,\n",
              "            0,     0,     0,     0,     0,     0,     0,     0,     0,\n",
              "            0,     0,     0,     0,     0,     0,     0,     0,     0,\n",
              "            0,     0,     0,     0,     0,     0,     0,     0,     0,\n",
              "            0,     0,     0,     0,     0,     0,     0,     0,     0,\n",
              "            0,     0,     0,     0,     0,     0,     0,     0,     0,\n",
              "            0,     0,     0,     0,     0,     0,     0,     0,     0,\n",
              "            0,     0,     0,     0,     0,     0,     0,     0,     0,\n",
              "            0,     0,     0,     0,     0,     0,     0,     0,     0,\n",
              "            0,     0,     0,     0,     0,     0,     0,     0,     0,\n",
              "            0,     0,     0,     0,     0,     0,     0,     0,     0,\n",
              "            0,     0,     0,     0,     0,     0,     0,     0,     0,\n",
              "            0,     0,     0,     0,     0,     0,     0,     0,     0,\n",
              "            0,     0,     0,     0,     0,     0,     0,     0,     0,\n",
              "            0,     0,     0,     0,     0,     0,     0,     0,     0,\n",
              "            0,     0,     0,     0,     0,     0,     0,     0,     0,\n",
              "            0,     0,     0,     0,     0,     0,     0,     0,     0,\n",
              "            0,     0,     0,     0,     0,     0,     0,     0,     0,\n",
              "            0,     0,     0,     0,     0,     0,     0,     0,     0,\n",
              "            0,     0,     0,     0,     0,     0,     0,     0,     0,\n",
              "            0,     0,     0,     0,     0,     0,     0,     0,     0,\n",
              "            0,     0,     0,     0,     0,     0,     0,     0,     0,\n",
              "            0,     0,     0,     0,     0,     0,     0,     0,     0,\n",
              "            0,     0,     0,     0,     0,     0,     0,     0,     0,\n",
              "            0,     0,     0,     0,     0,     0,     0,     0,     0,\n",
              "            0,     0,     0,     0,     0,     0,     0,     0,     0,\n",
              "            0,     0,     0,     0,     0,     0,     0,     0,     0,\n",
              "            0,     0,     0,     0,     0,     0,     0,     0,     0,\n",
              "            0,     0,     0,     0,     0,     0,     0,     0,     0,\n",
              "            0,     0,     0,     0,     0,     0,     0,     0,     0,\n",
              "            0,     0,     0,     0,     0,     0,     0,     0,     0,\n",
              "            0,     0,     0,     0,     0,     0,     0,     0,     0,\n",
              "            0,     0,     0,     0,     0,     0,     0,     0,     0,\n",
              "            0,     0,     0,     0,     0,     0,     0,     0,     0,\n",
              "            0,     0,     0,     0,     0,     0,     0,     0,     0,\n",
              "            0,     0,     0,     0,     0,     0,     0,     0,     0,\n",
              "            0,     0,     0,     0,     0,     0,     0,     0,     0,\n",
              "            0,     0,     0,     0,     0,     0,     0,     0,     0,\n",
              "            0,     0,     0,     0,     0,     0,     0,     0,     0,\n",
              "            0,     0,     0,     0,     0,     0,     0,     0,     0,\n",
              "            0,     0,     0,     0,     0,     0,     0,     0,     0,\n",
              "            0,     0,     0,     0,     0,     0,     0,     0,     0,\n",
              "            0,     0,     0,     0,     0,     0,     0,     0,     0,\n",
              "            0,     0,     0,     0,     0,     0,     0,     0,     0,\n",
              "            0,     0,     0,     0,     0,     0,     0,     0,     0,\n",
              "            0,     0,     0,     0,     0,     0,     0,     0,     0,\n",
              "            0,     0,     0,     0,     0,     0,     0,     0,     0,\n",
              "            0,     0,     0,     0,     0,     0,     0,     0,     0,\n",
              "            0,     0,     0,     0,     0,     0,     0,     0,     0,\n",
              "            0,     0,     0])>, <tf.Tensor: shape=(), dtype=int32, numpy=1>)"
            ]
          },
          "metadata": {
            "tags": []
          },
          "execution_count": 42
        }
      ]
    },
    {
      "cell_type": "code",
      "metadata": {
        "id": "WsCnTt9TfLlR",
        "outputId": "5969e642-1694-471d-f85a-d799dbd3997f",
        "colab": {
          "base_uri": "https://localhost:8080/"
        }
      },
      "source": [
        "for i, j in test_data.take(10):\n",
        "  print(tf.unique_with_counts(j)[2].numpy())"
      ],
      "execution_count": 56,
      "outputs": [
        {
          "output_type": "stream",
          "text": [
            "[90 38]\n",
            "[87 41]\n",
            "[37 91]\n",
            "[87 41]\n",
            "[45 83]\n",
            "[90 38]\n",
            "[93 35]\n",
            "[41 87]\n",
            "[78 50]\n",
            "[82 46]\n"
          ],
          "name": "stdout"
        }
      ]
    },
    {
      "cell_type": "code",
      "metadata": {
        "id": "TyktBh-Fn1Cp",
        "outputId": "c4c1b951-38e9-41c5-d995-af7d2ce6cd22",
        "colab": {
          "base_uri": "https://localhost:8080/"
        }
      },
      "source": [
        "print(vocab_size)"
      ],
      "execution_count": 57,
      "outputs": [
        {
          "output_type": "stream",
          "text": [
            "73740\n"
          ],
          "name": "stdout"
        }
      ]
    },
    {
      "cell_type": "code",
      "metadata": {
        "id": "NBN6LSswk0nK"
      },
      "source": [
        "model = tf.keras.Sequential()\n",
        "model.add(tf.keras.layers.Embedding(vocab_size, 128))\n",
        "model.add(tf.keras.layers.Bidirectional(tf.keras.layers.LSTM(128,return_sequences=True)))\n",
        "model.add(tf.keras.layers.Bidirectional(tf.keras.layers.LSTM(64)))\n",
        "\n",
        "for val in [64,64]:\n",
        "  model.add(tf.keras.layers.Dense(units=val, activation='relu'))\n",
        "\n",
        "### it's takes linear activation. in image processing you use 'sigmoid'\n",
        "### usually with sigmoid function output will be 0 and 1, which we don't want here.\n",
        "### try with activation function iwth 'relu' for last dense layer (Dense(1)).. in below.\n",
        "model.add(tf.keras.layers.Dense(1)) \n"
      ],
      "execution_count": 51,
      "outputs": []
    },
    {
      "cell_type": "code",
      "metadata": {
        "id": "P3K2Cl_KoAmp",
        "outputId": "50e5b3fd-e0f2-4826-af97-4129719fe079",
        "colab": {
          "base_uri": "https://localhost:8080/"
        }
      },
      "source": [
        "!rm -r /tmp/logs"
      ],
      "execution_count": 58,
      "outputs": [
        {
          "output_type": "stream",
          "text": [
            "rm: cannot remove '/tmp/logs': No such file or directory\n"
          ],
          "name": "stdout"
        }
      ]
    },
    {
      "cell_type": "code",
      "metadata": {
        "id": "T0RG2xIMpwzj"
      },
      "source": [
        "### write the model logs onto logs directory.\n",
        "logdir = os.path.join(\"/tmp/logs\", datetime.datetime.now().strftime('%Y%m%d-%H%M%S'))\n",
        "\n",
        "###TensorBoard is a visualization tool provided with TensorFlow.\n",
        "tensorboard_callback = tf.keras.callbacks.TensorBoard(log_dir=logdir, histogram_freq=1)\n",
        "\n",
        "### add a checkpoint to collect best possible model and save it from that particlaur epoch.\n",
        "###eahc epoch returns different model output\n",
        "checkpointer = tf.keras.callbacks.ModelCheckpoint(filepath='/tmp/sentiment_analysis.hdf5', verbose=1,save_best_only=True)\n",
        "\n",
        "\n",
        "### compile the model\n",
        "model.compile(optimizer='adam',\n",
        "              loss=tf.keras.losses.BinaryCrossentropy(from_logits=True),\n",
        "              metrics=['accuracy'])\n"
      ],
      "execution_count": 60,
      "outputs": []
    },
    {
      "cell_type": "code",
      "metadata": {
        "id": "Jul3lV-usgZp",
        "outputId": "a7a31796-22b0-46ef-9221-45d63550d5d2",
        "colab": {
          "base_uri": "https://localhost:8080/"
        }
      },
      "source": [
        "### for this , am using validation dataset as  that of test dataset\n",
        "### ideally i should have had 3 datastes for train, test and validation\n",
        "###using tensor callbackfo rlogging and check pointing the best model.\n",
        "history=model.fit(x=train_data, epochs=4, validation_data=test_data, callbacks=[tensorboard_callback, checkpointer])"
      ],
      "execution_count": 61,
      "outputs": [
        {
          "output_type": "stream",
          "text": [
            "Epoch 1/4\n",
            "  1/742 [..............................] - ETA: 0s - loss: 0.6955 - accuracy: 0.3203WARNING:tensorflow:From /usr/local/lib/python3.6/dist-packages/tensorflow/python/ops/summary_ops_v2.py:1277: stop (from tensorflow.python.eager.profiler) is deprecated and will be removed after 2020-07-01.\n",
            "Instructions for updating:\n",
            "use `tf.profiler.experimental.stop` instead.\n"
          ],
          "name": "stdout"
        },
        {
          "output_type": "stream",
          "text": [
            "WARNING:tensorflow:From /usr/local/lib/python3.6/dist-packages/tensorflow/python/ops/summary_ops_v2.py:1277: stop (from tensorflow.python.eager.profiler) is deprecated and will be removed after 2020-07-01.\n",
            "Instructions for updating:\n",
            "use `tf.profiler.experimental.stop` instead.\n"
          ],
          "name": "stderr"
        },
        {
          "output_type": "stream",
          "text": [
            "742/742 [==============================] - ETA: 0s - loss: 0.3363 - accuracy: 0.8478\n",
            "Epoch 00001: val_loss improved from inf to 0.28063, saving model to /tmp/sentiment_analysis.hdf5\n",
            "742/742 [==============================] - 278s 375ms/step - loss: 0.3363 - accuracy: 0.8478 - val_loss: 0.2806 - val_accuracy: 0.8791\n",
            "Epoch 2/4\n",
            "742/742 [==============================] - ETA: 0s - loss: 0.2193 - accuracy: 0.9106\n",
            "Epoch 00002: val_loss improved from 0.28063 to 0.26769, saving model to /tmp/sentiment_analysis.hdf5\n",
            "742/742 [==============================] - 277s 373ms/step - loss: 0.2193 - accuracy: 0.9106 - val_loss: 0.2677 - val_accuracy: 0.8878\n",
            "Epoch 3/4\n",
            "742/742 [==============================] - ETA: 0s - loss: 0.1649 - accuracy: 0.9349\n",
            "Epoch 00003: val_loss did not improve from 0.26769\n",
            "742/742 [==============================] - 276s 373ms/step - loss: 0.1649 - accuracy: 0.9349 - val_loss: 0.2817 - val_accuracy: 0.8907\n",
            "Epoch 4/4\n",
            "742/742 [==============================] - ETA: 0s - loss: 0.1294 - accuracy: 0.9506\n",
            "Epoch 00004: val_loss did not improve from 0.26769\n",
            "742/742 [==============================] - 275s 371ms/step - loss: 0.1294 - accuracy: 0.9506 - val_loss: 0.3199 - val_accuracy: 0.8825\n"
          ],
          "name": "stdout"
        }
      ]
    },
    {
      "cell_type": "code",
      "metadata": {
        "id": "90MoNrdp8RBe"
      },
      "source": [
        "model.save('/tmp/final_sentiment_analysis.hdf5')"
      ],
      "execution_count": 62,
      "outputs": []
    },
    {
      "cell_type": "code",
      "metadata": {
        "id": "3AWn_mat8mc2",
        "outputId": "17f330a5-9c3c-49fd-e37f-6a64a8a623f0",
        "colab": {
          "base_uri": "https://localhost:8080/"
        }
      },
      "source": [
        "!ls -altr /tmp/*.hdf5"
      ],
      "execution_count": 63,
      "outputs": [
        {
          "output_type": "stream",
          "text": [
            "-rw-r--r-- 1 root root 118634568 Nov 13 17:14 /tmp/sentiment_analysis.hdf5\n",
            "-rw-r--r-- 1 root root 118634568 Nov 13 17:25 /tmp/final_sentiment_analysis.hdf5\n"
          ],
          "name": "stdout"
        }
      ]
    },
    {
      "cell_type": "code",
      "metadata": {
        "id": "F4jblIGV89x3",
        "outputId": "4dc483ed-63b0-453c-8581-0316c2962bb3",
        "colab": {
          "base_uri": "https://localhost:8080/"
        }
      },
      "source": [
        "### evaluate the model with test data on final model.\n",
        "eval_loss, eval_acc = model.evaluate(test_data)"
      ],
      "execution_count": 64,
      "outputs": [
        {
          "output_type": "stream",
          "text": [
            "79/79 [==============================] - 15s 190ms/step - loss: 0.3199 - accuracy: 0.8825\n"
          ],
          "name": "stdout"
        }
      ]
    },
    {
      "cell_type": "code",
      "metadata": {
        "id": "gJG10G9q9RiA",
        "outputId": "5e1daec2-36ee-4cd8-993e-d61e5397eefc",
        "colab": {
          "base_uri": "https://localhost:8080/"
        }
      },
      "source": [
        "print('\\n Evaluation loss: {:.3f}, Evaluation accuracy: {:.3f}'.format(eval_loss, eval_acc))"
      ],
      "execution_count": 66,
      "outputs": [
        {
          "output_type": "stream",
          "text": [
            "\n",
            " Evaluation loss: 0.320, Evaluation accuracy: 0.882\n"
          ],
          "name": "stdout"
        }
      ]
    },
    {
      "cell_type": "code",
      "metadata": {
        "id": "HEGMNMF5Zvf4",
        "outputId": "19a83f11-0fb1-48f8-dace-ceb602fb4465",
        "colab": {
          "base_uri": "https://localhost:8080/"
        }
      },
      "source": [
        "### view the sentiment values.. \n",
        "## 0 --negative  and 1 -- positive numbers\n",
        "\n",
        "for f0, f1 in test_data.take(1):\n",
        "  print(f1)\n",
        "  print(model.predict(f0))"
      ],
      "execution_count": 67,
      "outputs": [
        {
          "output_type": "stream",
          "text": [
            "tf.Tensor(\n",
            "[1 0 1 1 1 1 0 1 1 1 1 1 1 1 0 1 1 1 1 1 1 0 1 1 1 0 1 0 1 1 1 0 1 1 1 0 0\n",
            " 0 1 1 0 1 0 1 1 1 1 1 1 0 0 1 1 0 1 0 0 1 1 1 0 0 0 0 1 1 1 1 0 0 1 1 1 1\n",
            " 1 1 1 1 1 1 0 1 0 0 1 1 1 1 1 1 1 1 1 1 0 1 1 1 1 1 1 0 1 1 1 0 0 0 0 1 0\n",
            " 1 0 1 1 0 1 1 1 0 1 0 1 1 1 1 0 1], shape=(128,), dtype=int32)\n",
            "[[ 6.584061  ]\n",
            " [-3.1459596 ]\n",
            " [-1.07247   ]\n",
            " [ 3.8737667 ]\n",
            " [ 5.785824  ]\n",
            " [ 6.1166897 ]\n",
            " [-6.202849  ]\n",
            " [ 6.0163255 ]\n",
            " [ 4.122931  ]\n",
            " [ 5.3300533 ]\n",
            " [ 4.6992435 ]\n",
            " [ 4.047249  ]\n",
            " [ 5.123311  ]\n",
            " [ 6.561298  ]\n",
            " [-5.3067746 ]\n",
            " [ 5.136565  ]\n",
            " [ 6.531487  ]\n",
            " [ 3.7889674 ]\n",
            " [ 6.3481035 ]\n",
            " [ 4.9139795 ]\n",
            " [ 0.13407102]\n",
            " [-7.563557  ]\n",
            " [ 5.329128  ]\n",
            " [ 7.3511457 ]\n",
            " [ 6.1125345 ]\n",
            " [-4.3073254 ]\n",
            " [ 4.9855366 ]\n",
            " [-4.1791816 ]\n",
            " [ 1.5881786 ]\n",
            " [ 5.201629  ]\n",
            " [ 4.5972285 ]\n",
            " [ 3.380331  ]\n",
            " [ 5.880027  ]\n",
            " [ 5.7164264 ]\n",
            " [ 6.258999  ]\n",
            " [ 3.0767343 ]\n",
            " [-6.461754  ]\n",
            " [-6.0363383 ]\n",
            " [ 1.599313  ]\n",
            " [ 5.142624  ]\n",
            " [-3.6267946 ]\n",
            " [ 5.158632  ]\n",
            " [-0.28229257]\n",
            " [ 6.6634803 ]\n",
            " [ 5.90251   ]\n",
            " [-3.6404152 ]\n",
            " [-1.6139519 ]\n",
            " [ 2.2795599 ]\n",
            " [ 5.5203557 ]\n",
            " [-0.43024677]\n",
            " [-5.6940827 ]\n",
            " [ 3.7586577 ]\n",
            " [ 4.4719167 ]\n",
            " [-0.32620192]\n",
            " [ 5.921251  ]\n",
            " [-6.5871725 ]\n",
            " [-0.94585896]\n",
            " [ 2.943925  ]\n",
            " [ 4.9941263 ]\n",
            " [ 0.53637516]\n",
            " [-1.1434908 ]\n",
            " [ 0.92799455]\n",
            " [-5.248374  ]\n",
            " [ 5.907453  ]\n",
            " [ 5.2621894 ]\n",
            " [ 6.3828616 ]\n",
            " [ 7.2868237 ]\n",
            " [ 0.5300823 ]\n",
            " [-4.052826  ]\n",
            " [ 1.1702139 ]\n",
            " [ 4.8264384 ]\n",
            " [ 3.924802  ]\n",
            " [ 4.6145797 ]\n",
            " [ 6.817776  ]\n",
            " [ 4.633556  ]\n",
            " [ 4.127678  ]\n",
            " [ 6.6635623 ]\n",
            " [ 6.5499268 ]\n",
            " [ 2.190626  ]\n",
            " [ 6.092564  ]\n",
            " [-2.7859716 ]\n",
            " [ 4.7072673 ]\n",
            " [-2.7243798 ]\n",
            " [-6.1519775 ]\n",
            " [ 0.5829875 ]\n",
            " [ 4.974439  ]\n",
            " [ 3.9717517 ]\n",
            " [ 1.9625335 ]\n",
            " [ 5.078198  ]\n",
            " [-0.9198758 ]\n",
            " [ 6.5273466 ]\n",
            " [ 5.5865355 ]\n",
            " [ 5.17926   ]\n",
            " [ 0.32850826]\n",
            " [-5.292984  ]\n",
            " [ 6.484366  ]\n",
            " [ 5.9300137 ]\n",
            " [ 6.511755  ]\n",
            " [ 6.7793517 ]\n",
            " [ 4.677457  ]\n",
            " [ 4.975773  ]\n",
            " [-3.0237038 ]\n",
            " [-1.0351834 ]\n",
            " [ 1.0163598 ]\n",
            " [ 1.5820045 ]\n",
            " [-4.8795424 ]\n",
            " [-3.655832  ]\n",
            " [ 0.10438652]\n",
            " [-0.52320474]\n",
            " [-2.7500765 ]\n",
            " [-5.8179045 ]\n",
            " [ 4.9879184 ]\n",
            " [-0.35405508]\n",
            " [ 4.956768  ]\n",
            " [ 5.632524  ]\n",
            " [-5.0321803 ]\n",
            " [ 6.5351577 ]\n",
            " [ 3.0520604 ]\n",
            " [ 0.75068164]\n",
            " [-4.508903  ]\n",
            " [ 6.015505  ]\n",
            " [ 3.7557826 ]\n",
            " [ 6.048353  ]\n",
            " [ 4.961873  ]\n",
            " [-2.9067273 ]\n",
            " [ 4.345474  ]\n",
            " [-4.8665094 ]\n",
            " [ 3.8015006 ]]\n"
          ],
          "name": "stdout"
        }
      ]
    },
    {
      "cell_type": "code",
      "metadata": {
        "id": "5FOMoBnpbZ3h",
        "outputId": "7df16aa0-4e8c-4745-8fa2-48957d6c691e",
        "colab": {
          "base_uri": "https://localhost:8080/"
        }
      },
      "source": [
        "### view the number of layers we applied.\n",
        "model.layers"
      ],
      "execution_count": 68,
      "outputs": [
        {
          "output_type": "execute_result",
          "data": {
            "text/plain": [
              "[<tensorflow.python.keras.layers.embeddings.Embedding at 0x7f84fa282cc0>,\n",
              " <tensorflow.python.keras.layers.wrappers.Bidirectional at 0x7f8480fe0710>,\n",
              " <tensorflow.python.keras.layers.wrappers.Bidirectional at 0x7f848157f358>,\n",
              " <tensorflow.python.keras.layers.core.Dense at 0x7f8481587278>,\n",
              " <tensorflow.python.keras.layers.core.Dense at 0x7f848155d198>,\n",
              " <tensorflow.python.keras.layers.core.Dense at 0x7f84813d2710>]"
            ]
          },
          "metadata": {
            "tags": []
          },
          "execution_count": 68
        }
      ]
    },
    {
      "cell_type": "code",
      "metadata": {
        "id": "IT0LvWClbelt",
        "outputId": "661c69e6-969a-463f-c210-b5d3f65abaa9",
        "colab": {
          "base_uri": "https://localhost:8080/"
        }
      },
      "source": [
        "### check the sumaryr details for number of paraenters for eahc layer\n",
        "model.summary()"
      ],
      "execution_count": 69,
      "outputs": [
        {
          "output_type": "stream",
          "text": [
            "Model: \"sequential_1\"\n",
            "_________________________________________________________________\n",
            "Layer (type)                 Output Shape              Param #   \n",
            "=================================================================\n",
            "embedding_1 (Embedding)      (None, None, 128)         9438720   \n",
            "_________________________________________________________________\n",
            "bidirectional_2 (Bidirection (None, None, 256)         263168    \n",
            "_________________________________________________________________\n",
            "bidirectional_3 (Bidirection (None, 128)               164352    \n",
            "_________________________________________________________________\n",
            "dense_3 (Dense)              (None, 64)                8256      \n",
            "_________________________________________________________________\n",
            "dense_4 (Dense)              (None, 64)                4160      \n",
            "_________________________________________________________________\n",
            "dense_5 (Dense)              (None, 1)                 65        \n",
            "=================================================================\n",
            "Total params: 9,878,721\n",
            "Trainable params: 9,878,721\n",
            "Non-trainable params: 0\n",
            "_________________________________________________________________\n"
          ],
          "name": "stdout"
        }
      ]
    },
    {
      "cell_type": "code",
      "metadata": {
        "id": "ReIQLhLldN5L",
        "outputId": "54bca761-c547-4bbe-8058-eb969da504d6",
        "colab": {
          "base_uri": "https://localhost:8080/"
        }
      },
      "source": [
        "!nvidia-smi"
      ],
      "execution_count": 70,
      "outputs": [
        {
          "output_type": "stream",
          "text": [
            "Fri Nov 13 17:40:49 2020       \n",
            "+-----------------------------------------------------------------------------+\n",
            "| NVIDIA-SMI 455.32.00    Driver Version: 418.67       CUDA Version: 10.1     |\n",
            "|-------------------------------+----------------------+----------------------+\n",
            "| GPU  Name        Persistence-M| Bus-Id        Disp.A | Volatile Uncorr. ECC |\n",
            "| Fan  Temp  Perf  Pwr:Usage/Cap|         Memory-Usage | GPU-Util  Compute M. |\n",
            "|                               |                      |               MIG M. |\n",
            "|===============================+======================+======================|\n",
            "|   0  Tesla T4            Off  | 00000000:00:04.0 Off |                    0 |\n",
            "| N/A   77C    P0    37W /  70W |   8841MiB / 15079MiB |      0%      Default |\n",
            "|                               |                      |                 ERR! |\n",
            "+-------------------------------+----------------------+----------------------+\n",
            "                                                                               \n",
            "+-----------------------------------------------------------------------------+\n",
            "| Processes:                                                                  |\n",
            "|  GPU   GI   CI        PID   Type   Process name                  GPU Memory |\n",
            "|        ID   ID                                                   Usage      |\n",
            "|=============================================================================|\n",
            "|  No running processes found                                                 |\n",
            "+-----------------------------------------------------------------------------+\n"
          ],
          "name": "stdout"
        }
      ]
    },
    {
      "cell_type": "code",
      "metadata": {
        "id": "ri1hXlGddiLs"
      },
      "source": [
        "import matplotlib.pyplot as plt\n",
        "\n",
        "def plot_graphs(history, metric):\n",
        "  plt.plot(history.history[metric])\n",
        "  plt.plot(history.history['val_'+ metric],'')\n",
        "  plt.xlabel(\"Epochs\")\n",
        "  plt.ylabel(metric)\n",
        "  plt.legend([metric, 'val_'+metric])\n",
        "  plt.show()\n"
      ],
      "execution_count": 71,
      "outputs": []
    },
    {
      "cell_type": "code",
      "metadata": {
        "id": "GcSRozH5eS2D",
        "outputId": "bad0ada4-756e-4f13-f326-63866c6ed769",
        "colab": {
          "base_uri": "https://localhost:8080/",
          "height": 279
        }
      },
      "source": [
        "plot_graphs(history, 'accuracy')"
      ],
      "execution_count": 72,
      "outputs": [
        {
          "output_type": "display_data",
          "data": {
            "image/png": "[encoded data removed]",
            "text/plain": [
              "<Figure size 432x288 with 1 Axes>"
            ]
          },
          "metadata": {
            "tags": [],
            "needs_background": "light"
          }
        }
      ]
    },
    {
      "cell_type": "code",
      "metadata": {
        "id": "2wsshtAAerDn",
        "outputId": "7bd24355-0b5a-4bc1-af28-0a3aa63a595a",
        "colab": {
          "base_uri": "https://localhost:8080/",
          "height": 279
        }
      },
      "source": [
        "plot_graphs(history, 'loss')"
      ],
      "execution_count": 73,
      "outputs": [
        {
          "output_type": "display_data",
          "data": {
            "image/png": "[encoded data removed]",
            "text/plain": [
              "<Figure size 432x288 with 1 Axes>"
            ]
          },
          "metadata": {
            "tags": [],
            "needs_background": "light"
          }
        }
      ]
    },
    {
      "cell_type": "code",
      "metadata": {
        "id": "nK0ZirmOfglb"
      },
      "source": [
        "### clear all the sessions in the background\n",
        "tf.keras.backend.clear_session()\n",
        "\n",
        "### load the bets saved model, not the final model copy\n",
        "sent_analytics_load = tf.keras.models.load_model('/tmp/sentiment_analysis.hdf5', compile=False)"
      ],
      "execution_count": 76,
      "outputs": []
    },
    {
      "cell_type": "code",
      "metadata": {
        "id": "fMj_q0ddgOTQ"
      },
      "source": [
        "### before depoying the model, batch sized paddign can be overidden with individual row level padding\n",
        "### decide on a constant padding length size and use it. it can be maxium lenght from the datasets or pad it for lesser length\n",
        "## as model has seen variable length\n",
        "def pad_to_size(vec, size):\n",
        "  print(vec)\n",
        "  zeros = [0] * (size - len(vec))\n",
        "  vec.extend(zeros)\n",
        "  return vec\n"
      ],
      "execution_count": 77,
      "outputs": []
    },
    {
      "cell_type": "code",
      "metadata": {
        "id": "coY1XNA_ifX-"
      },
      "source": [
        "### create a predict fundtion on the model\n",
        "### use 32 as the ocnstant size, at the moment\n",
        "\n",
        "def predict_func(pred_text):\n",
        "  encoded_text = encoder.encode(pred_text)\n",
        "  print(encoded_text)\n",
        "  padded_encoded_text = pad_to_size(encoded_text, 32)\n",
        "  print(padded_encoded_text)\n",
        "  cast_padded_encoded_text = tf.cast(padded_encoded_text, tf.float32)\n",
        "  predict_output = sent_analytics_load.predict(tf.expand_dims(cast_padded_encoded_text,0))\n",
        "\n",
        "  return (predict_output)\n"
      ],
      "execution_count": 78,
      "outputs": []
    },
    {
      "cell_type": "code",
      "metadata": {
        "id": "_GES9CUHkprX",
        "outputId": "25b25ea5-071b-4d1d-9fe7-a9d132e38d53",
        "colab": {
          "base_uri": "https://localhost:8080/"
        }
      },
      "source": [
        "### test with some values.....\n",
        "text = (\"This is watch pretty bad. Color and dials looks pathetic\")\n",
        "print(text)\n",
        "predictions = predict_func(text)\n",
        "print(predictions)"
      ],
      "execution_count": 79,
      "outputs": [
        {
          "output_type": "stream",
          "text": [
            "This is watch pretty bad. Color and dials looks pathetic\n",
            "[48347, 11045, 6209, 49439, 19027, 10192, 70066, 73574, 54836, 23600]\n",
            "[48347, 11045, 6209, 49439, 19027, 10192, 70066, 73574, 54836, 23600]\n",
            "[48347, 11045, 6209, 49439, 19027, 10192, 70066, 73574, 54836, 23600, 0, 0, 0, 0, 0, 0, 0, 0, 0, 0, 0, 0, 0, 0, 0, 0, 0, 0, 0, 0, 0, 0]\n",
            "[[-2.481081]]\n"
          ],
          "name": "stdout"
        }
      ]
    },
    {
      "cell_type": "code",
      "metadata": {
        "id": "QYl3tVKypiFO",
        "outputId": "bcaff4e9-211d-4642-fc95-e2458b6a21d5",
        "colab": {
          "base_uri": "https://localhost:8080/"
        }
      },
      "source": [
        "### test with some values.....\n",
        "text = (\"Product amazing. Fast delivery & nice packing\")\n",
        "print(text)\n",
        "predictions = predict_func(text)\n",
        "print(predictions)"
      ],
      "execution_count": 80,
      "outputs": [
        {
          "output_type": "stream",
          "text": [
            "Product amazing. Fast delivery & nice packing\n",
            "[54412, 71208, 54135, 27992, 34857, 19667]\n",
            "[54412, 71208, 54135, 27992, 34857, 19667]\n",
            "[54412, 71208, 54135, 27992, 34857, 19667, 0, 0, 0, 0, 0, 0, 0, 0, 0, 0, 0, 0, 0, 0, 0, 0, 0, 0, 0, 0, 0, 0, 0, 0, 0, 0]\n",
            "[[5.0296154]]\n"
          ],
          "name": "stdout"
        }
      ]
    },
    {
      "cell_type": "code",
      "metadata": {
        "id": "-PE1D4r7pse4",
        "outputId": "b76ebce7-daa2-436c-dc42-1b714e934e44",
        "colab": {
          "base_uri": "https://localhost:8080/"
        }
      },
      "source": [
        "### test with some values.....\n",
        "text = (\"Nice product. Packing could have been better\")\n",
        "print(text)\n",
        "predictions = predict_func(text)\n",
        "print(predictions)"
      ],
      "execution_count": 81,
      "outputs": [
        {
          "output_type": "stream",
          "text": [
            "Nice product. Packing could have been better\n",
            "[29165, 66445, 67676, 61526, 42160, 46947, 68390]\n",
            "[29165, 66445, 67676, 61526, 42160, 46947, 68390]\n",
            "[29165, 66445, 67676, 61526, 42160, 46947, 68390, 0, 0, 0, 0, 0, 0, 0, 0, 0, 0, 0, 0, 0, 0, 0, 0, 0, 0, 0, 0, 0, 0, 0, 0, 0]\n",
            "[[2.8844445]]\n"
          ],
          "name": "stdout"
        }
      ]
    },
    {
      "cell_type": "code",
      "metadata": {
        "id": "pFE3w7Ugp1hD",
        "outputId": "bcf575fa-371b-4645-b28a-4418dcd31e20",
        "colab": {
          "base_uri": "https://localhost:8080/"
        }
      },
      "source": [
        "### test with some values.....\n",
        "text = (\"This is watch pretty bad. Color and dials looks pathetic\")\n",
        "print(text)\n",
        "predictions = predict_func(text)\n",
        "print(predictions)"
      ],
      "execution_count": 82,
      "outputs": [
        {
          "output_type": "stream",
          "text": [
            "This is watch pretty bad. Color and dials looks pathetic\n",
            "[48347, 11045, 6209, 49439, 19027, 10192, 70066, 73574, 54836, 23600]\n",
            "[48347, 11045, 6209, 49439, 19027, 10192, 70066, 73574, 54836, 23600]\n",
            "[48347, 11045, 6209, 49439, 19027, 10192, 70066, 73574, 54836, 23600, 0, 0, 0, 0, 0, 0, 0, 0, 0, 0, 0, 0, 0, 0, 0, 0, 0, 0, 0, 0, 0, 0]\n",
            "[[-2.481081]]\n"
          ],
          "name": "stdout"
        }
      ]
    },
    {
      "cell_type": "code",
      "metadata": {
        "id": "4ktIfO9cqDDA",
        "outputId": "a94b270f-297e-4f58-a384-3a378935d9d2",
        "colab": {
          "base_uri": "https://localhost:8080/"
        }
      },
      "source": [
        "### test with some values.....\n",
        "text = (\"Color an ddia does not look as advertised. Shiipoing was not any better either\")\n",
        "print(text)\n",
        "predictions = predict_func(text)\n",
        "print(predictions)"
      ],
      "execution_count": 83,
      "outputs": [
        {
          "output_type": "stream",
          "text": [
            "Color an ddia does not look as advertised. Shiipoing was not any better either\n",
            "[10192, 1716, 73739, 3330, 14501, 12217, 28885, 12920, 73739, 65420, 14501, 22668, 68390, 43713]\n",
            "[10192, 1716, 73739, 3330, 14501, 12217, 28885, 12920, 73739, 65420, 14501, 22668, 68390, 43713]\n",
            "[10192, 1716, 73739, 3330, 14501, 12217, 28885, 12920, 73739, 65420, 14501, 22668, 68390, 43713, 0, 0, 0, 0, 0, 0, 0, 0, 0, 0, 0, 0, 0, 0, 0, 0, 0, 0]\n",
            "[[-2.560629]]\n"
          ],
          "name": "stdout"
        }
      ]
    },
    {
      "cell_type": "code",
      "metadata": {
        "id": "fHtQUAj9qVXE",
        "outputId": "f620b53d-85fb-468f-8119-c652b0969698",
        "colab": {
          "base_uri": "https://localhost:8080/"
        }
      },
      "source": [
        "### check the distrinbution startegy of tesnor flow\n",
        "print(tf.distribute.get_strategy)"
      ],
      "execution_count": 84,
      "outputs": [
        {
          "output_type": "stream",
          "text": [
            "<function get_strategy at 0x7f84fadd77b8>\n"
          ],
          "name": "stdout"
        }
      ]
    },
    {
      "cell_type": "code",
      "metadata": {
        "id": "zsO6jZDiqbjJ"
      },
      "source": [
        "%reload_ext tensorboard"
      ],
      "execution_count": 88,
      "outputs": []
    },
    {
      "cell_type": "code",
      "metadata": {
        "id": "9ykvtqIBqnbD",
        "outputId": "5df82c3e-e1be-4f7d-9826-d22ddbaf2a3c",
        "colab": {
          "base_uri": "https://localhost:8080/",
          "height": 446
        }
      },
      "source": [
        "%tensorboard --logdir /tmp/logs"
      ],
      "execution_count": 89,
      "outputs": [
        {
          "output_type": "display_data",
          "data": {
            "text/plain": [
              "ERROR: Failed to launch TensorBoard (exited with 1).\n",
              "Contents of stderr:\n",
              "2020-11-13 18:20:28.048096: I tensorflow/stream_executor/platform/default/dso_loader.cc:48] Successfully opened dynamic library libcudart.so.10.1\n",
              "Traceback (most recent call last):\n",
              "  File \"/usr/local/bin/tensorboard\", line 8, in <module>\n",
              "    sys.exit(run_main())\n",
              "  File \"/usr/local/lib/python3.6/dist-packages/tensorboard/main.py\", line 75, in run_main\n",
              "    app.run(tensorboard.main, flags_parser=tensorboard.configure)\n",
              "  File \"/usr/local/lib/python3.6/dist-packages/absl/app.py\", line 300, in run\n",
              "    _run_main(main, args)\n",
              "  File \"/usr/local/lib/python3.6/dist-packages/absl/app.py\", line 251, in _run_main\n",
              "    sys.exit(main(argv))\n",
              "  File \"/usr/local/lib/python3.6/dist-packages/tensorboard/program.py\", line 289, in main\n",
              "    return runner(self.flags) or 0\n",
              "  File \"/usr/local/lib/python3.6/dist-packages/tensorboard/program.py\", line 305, in _run_serve_subcommand\n",
              "    server = self._make_server()\n",
              "  File \"/usr/local/lib/python3.6/dist-packages/tensorboard/program.py\", line 419, in _make_server\n",
              "    ingester.deprecated_multiplexer,\n",
              "  File \"/usr/local/lib/python3.6/dist-packages/tensorboard/backend/application.py\", line 149, in TensorBoardWSGIApp\n",
              "    experimental_middlewares,\n",
              "  File \"/usr/local/lib/python3.6/dist-packages/tensorboard/backend/application.py\", line 257, in __init__\n",
              "    \"Duplicate plugins for name %s\" % plugin.plugin_name\n",
              "ValueError: Duplicate plugins for name projector"
            ]
          },
          "metadata": {
            "tags": []
          }
        }
      ]
    }
  ]
}